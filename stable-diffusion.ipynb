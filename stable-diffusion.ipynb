{
 "cells": [
  {
   "cell_type": "code",
   "execution_count": 1,
   "metadata": {},
   "outputs": [
    {
     "name": "stdout",
     "output_type": "stream",
     "text": [
      "Requirement already satisfied: diffusers in c:\\users\\wen-liang\\appdata\\local\\programs\\python\\python312\\lib\\site-packages (0.27.2)\n",
      "Requirement already satisfied: transformers in c:\\users\\wen-liang\\appdata\\local\\programs\\python\\python312\\lib\\site-packages (4.41.0.dev0)\n",
      "Requirement already satisfied: accelerate in c:\\users\\wen-liang\\appdata\\local\\programs\\python\\python312\\lib\\site-packages (0.29.3)\n",
      "Requirement already satisfied: scipy in c:\\users\\wen-liang\\appdata\\local\\programs\\python\\python312\\lib\\site-packages (1.12.0)\n",
      "Requirement already satisfied: safetensors in c:\\users\\wen-liang\\appdata\\local\\programs\\python\\python312\\lib\\site-packages (0.4.2)\n",
      "Requirement already satisfied: importlib-metadata in c:\\users\\wen-liang\\appdata\\local\\programs\\python\\python312\\lib\\site-packages (from diffusers) (6.11.0)\n",
      "Requirement already satisfied: filelock in c:\\users\\wen-liang\\appdata\\local\\programs\\python\\python312\\lib\\site-packages (from diffusers) (3.13.3)\n",
      "Requirement already satisfied: huggingface-hub>=0.20.2 in c:\\users\\wen-liang\\appdata\\local\\programs\\python\\python312\\lib\\site-packages (from diffusers) (0.23.0)\n",
      "Requirement already satisfied: numpy in c:\\users\\wen-liang\\appdata\\local\\programs\\python\\python312\\lib\\site-packages (from diffusers) (1.26.4)\n",
      "Requirement already satisfied: regex!=2019.12.17 in c:\\users\\wen-liang\\appdata\\local\\programs\\python\\python312\\lib\\site-packages (from diffusers) (2023.12.25)\n",
      "Requirement already satisfied: requests in c:\\users\\wen-liang\\appdata\\local\\programs\\python\\python312\\lib\\site-packages (from diffusers) (2.31.0)\n",
      "Requirement already satisfied: Pillow in c:\\users\\wen-liang\\appdata\\local\\programs\\python\\python312\\lib\\site-packages (from diffusers) (10.3.0)\n",
      "Requirement already satisfied: packaging>=20.0 in c:\\users\\wen-liang\\appdata\\local\\programs\\python\\python312\\lib\\site-packages (from transformers) (23.2)\n",
      "Requirement already satisfied: pyyaml>=5.1 in c:\\users\\wen-liang\\appdata\\local\\programs\\python\\python312\\lib\\site-packages (from transformers) (6.0.1)\n",
      "Requirement already satisfied: tokenizers<0.20,>=0.19 in c:\\users\\wen-liang\\appdata\\local\\programs\\python\\python312\\lib\\site-packages (from transformers) (0.19.1)\n",
      "Requirement already satisfied: tqdm>=4.27 in c:\\users\\wen-liang\\appdata\\local\\programs\\python\\python312\\lib\\site-packages (from transformers) (4.66.2)\n",
      "Requirement already satisfied: psutil in c:\\users\\wen-liang\\appdata\\local\\programs\\python\\python312\\lib\\site-packages (from accelerate) (5.9.8)\n",
      "Requirement already satisfied: torch>=1.10.0 in c:\\users\\wen-liang\\appdata\\local\\programs\\python\\python312\\lib\\site-packages (from accelerate) (2.2.2+cu118)\n",
      "Requirement already satisfied: fsspec>=2023.5.0 in c:\\users\\wen-liang\\appdata\\local\\programs\\python\\python312\\lib\\site-packages (from huggingface-hub>=0.20.2->diffusers) (2024.2.0)\n",
      "Requirement already satisfied: typing-extensions>=3.7.4.3 in c:\\users\\wen-liang\\appdata\\local\\programs\\python\\python312\\lib\\site-packages (from huggingface-hub>=0.20.2->diffusers) (4.10.0)\n",
      "Requirement already satisfied: sympy in c:\\users\\wen-liang\\appdata\\local\\programs\\python\\python312\\lib\\site-packages (from torch>=1.10.0->accelerate) (1.12)\n",
      "Requirement already satisfied: networkx in c:\\users\\wen-liang\\appdata\\local\\programs\\python\\python312\\lib\\site-packages (from torch>=1.10.0->accelerate) (3.2.1)\n",
      "Requirement already satisfied: jinja2 in c:\\users\\wen-liang\\appdata\\local\\programs\\python\\python312\\lib\\site-packages (from torch>=1.10.0->accelerate) (3.1.3)\n",
      "Requirement already satisfied: colorama in c:\\users\\wen-liang\\appdata\\local\\programs\\python\\python312\\lib\\site-packages (from tqdm>=4.27->transformers) (0.4.6)\n",
      "Requirement already satisfied: zipp>=0.5 in c:\\users\\wen-liang\\appdata\\local\\programs\\python\\python312\\lib\\site-packages (from importlib-metadata->diffusers) (3.18.1)\n",
      "Requirement already satisfied: charset-normalizer<4,>=2 in c:\\users\\wen-liang\\appdata\\local\\programs\\python\\python312\\lib\\site-packages (from requests->diffusers) (3.3.2)\n",
      "Requirement already satisfied: idna<4,>=2.5 in c:\\users\\wen-liang\\appdata\\local\\programs\\python\\python312\\lib\\site-packages (from requests->diffusers) (3.6)\n",
      "Requirement already satisfied: urllib3<3,>=1.21.1 in c:\\users\\wen-liang\\appdata\\local\\programs\\python\\python312\\lib\\site-packages (from requests->diffusers) (2.2.1)\n",
      "Requirement already satisfied: certifi>=2017.4.17 in c:\\users\\wen-liang\\appdata\\local\\programs\\python\\python312\\lib\\site-packages (from requests->diffusers) (2024.2.2)\n",
      "Requirement already satisfied: MarkupSafe>=2.0 in c:\\users\\wen-liang\\appdata\\local\\programs\\python\\python312\\lib\\site-packages (from jinja2->torch>=1.10.0->accelerate) (2.1.5)\n",
      "Requirement already satisfied: mpmath>=0.19 in c:\\users\\wen-liang\\appdata\\local\\programs\\python\\python312\\lib\\site-packages (from sympy->torch>=1.10.0->accelerate) (1.3.0)\n"
     ]
    }
   ],
   "source": [
    "!pip install diffusers transformers accelerate scipy safetensors"
   ]
  },
  {
   "cell_type": "code",
   "execution_count": 2,
   "metadata": {},
   "outputs": [
    {
     "name": "stderr",
     "output_type": "stream",
     "text": [
      "c:\\Users\\Wen-Liang\\AppData\\Local\\Programs\\Python\\Python312\\Lib\\site-packages\\huggingface_hub\\file_download.py:1132: FutureWarning: `resume_download` is deprecated and will be removed in version 1.0.0. Downloads always resume when possible. If you want to force a new download, use `force_download=True`.\n",
      "  warnings.warn(\n"
     ]
    },
    {
     "data": {
      "application/vnd.jupyter.widget-view+json": {
       "model_id": "ee704406937b45be94fad5389d23586d",
       "version_major": 2,
       "version_minor": 0
      },
      "text/plain": [
       "Loading pipeline components...:   0%|          | 0/6 [00:00<?, ?it/s]"
      ]
     },
     "metadata": {},
     "output_type": "display_data"
    },
    {
     "data": {
      "application/vnd.jupyter.widget-view+json": {
       "model_id": "370df64d0f5a4d2f838dbb770cb87644",
       "version_major": 2,
       "version_minor": 0
      },
      "text/plain": [
       "  0%|          | 0/50 [00:00<?, ?it/s]"
      ]
     },
     "metadata": {},
     "output_type": "display_data"
    },
    {
     "name": "stderr",
     "output_type": "stream",
     "text": [
      "c:\\Users\\Wen-Liang\\AppData\\Local\\Programs\\Python\\Python312\\Lib\\site-packages\\diffusers\\models\\attention_processor.py:1279: UserWarning: 1Torch was not compiled with flash attention. (Triggered internally at ..\\aten\\src\\ATen\\native\\transformers\\cuda\\sdp_utils.cpp:263.)\n",
      "  hidden_states = F.scaled_dot_product_attention(\n"
     ]
    }
   ],
   "source": [
    "import torch\n",
    "from diffusers import StableDiffusionPipeline, DPMSolverMultistepScheduler\n",
    "\n",
    "model_id = \"stabilityai/stable-diffusion-2-1\"\n",
    "\n",
    "# Use the DPMSolverMultistepScheduler (DPM-Solver++) scheduler here instead\n",
    "pipe = StableDiffusionPipeline.from_pretrained(model_id, torch_dtype=torch.float16)\n",
    "pipe.scheduler = DPMSolverMultistepScheduler.from_config(pipe.scheduler.config)\n",
    "pipe = pipe.to(\"cuda\")\n",
    "\n",
    "prompt = \"stop a Tesla and a BMW beside a lake\"\n",
    "image = pipe(prompt).images[0]\n",
    "    \n",
    "image.save(\"astronaut_rides_horse.png\")\n"
   ]
  }
 ],
 "metadata": {
  "kernelspec": {
   "display_name": "Python 3",
   "language": "python",
   "name": "python3"
  },
  "language_info": {
   "codemirror_mode": {
    "name": "ipython",
    "version": 3
   },
   "file_extension": ".py",
   "mimetype": "text/x-python",
   "name": "python",
   "nbconvert_exporter": "python",
   "pygments_lexer": "ipython3",
   "version": "3.12.2"
  }
 },
 "nbformat": 4,
 "nbformat_minor": 2
}
