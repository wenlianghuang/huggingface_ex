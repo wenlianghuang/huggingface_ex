{
 "cells": [
  {
   "cell_type": "code",
   "execution_count": 1,
   "metadata": {},
   "outputs": [],
   "source": [
    "!pip install -q langchain\n",
    "!pip install -q torch\n",
    "!pip install -q transformers\n",
    "!pip install -q sentence-transformers\n",
    "!pip install -q datasets\n",
    "!pip install -q faiss-cpu"
   ]
  },
  {
   "cell_type": "code",
   "execution_count": 2,
   "metadata": {},
   "outputs": [],
   "source": [
    "from langchain.document_loaders import HuggingFaceDatasetLoader\n",
    "from langchain.text_splitter import RecursiveCharacterTextSplitter\n",
    "from langchain.embeddings import HuggingFaceEmbeddings\n",
    "from langchain.vectorstores import FAISS\n",
    "from transformers import AutoTokenizer, AutoModelForQuestionAnswering\n",
    "from transformers import AutoTokenizer, pipeline\n",
    "from langchain import HuggingFacePipeline\n",
    "from langchain.chains import RetrievalQA"
   ]
  },
  {
   "cell_type": "code",
   "execution_count": 3,
   "metadata": {},
   "outputs": [
    {
     "name": "stderr",
     "output_type": "stream",
     "text": [
      "c:\\Users\\acer alan\\AppData\\Local\\Programs\\Python\\Python311\\Lib\\site-packages\\datasets\\load.py:2547: FutureWarning: 'use_auth_token' was deprecated in favor of 'token' in version 2.14.0 and will be removed in 3.0.0.\n",
      "You can remove this warning by passing 'token=<use_auth_token>' instead.\n",
      "  warnings.warn(\n"
     ]
    },
    {
     "data": {
      "text/plain": [
       "[Document(page_content='\"Virgin Australia, the trading name of Virgin Australia Airlines Pty Ltd, is an Australian-based airline. It is the largest airline by fleet size to use the Virgin brand. It commenced services on 31 August 2000 as Virgin Blue, with two aircraft on a single route. It suddenly found itself as a major airline in Australia\\'s domestic market after the collapse of Ansett Australia in September 2001. The airline has since grown to directly serve 32 cities in Australia, from hubs in Brisbane, Melbourne and Sydney.\"', metadata={'instruction': 'When did Virgin Australia start operating?', 'response': 'Virgin Australia commenced services on 31 August 2000 as Virgin Blue, with two aircraft on a single route.', 'category': 'closed_qa'}),\n",
       " Document(page_content='\"\"', metadata={'instruction': 'Which is a species of fish? Tope or Rope', 'response': 'Tope', 'category': 'classification'})]"
      ]
     },
     "execution_count": 3,
     "metadata": {},
     "output_type": "execute_result"
    }
   ],
   "source": [
    "# Specify the dataset name and the column containing the content\n",
    "dataset_name = \"databricks/databricks-dolly-15k\"\n",
    "page_content_column = \"context\"  # or any other column you're interested in\n",
    "\n",
    "# Create a loader instance\n",
    "loader = HuggingFaceDatasetLoader(dataset_name, page_content_column)\n",
    "\n",
    "# Load the data\n",
    "data = loader.load()\n",
    "\n",
    "# Display the first 15 entries\n",
    "data[:2]"
   ]
  },
  {
   "cell_type": "code",
   "execution_count": 4,
   "metadata": {},
   "outputs": [],
   "source": [
    "# Create an instance of the RecursiveCharacterTextSplitter class with specific parameters.\n",
    "# It splits text into chunks of 1000 characters each with a 150-character overlap.\n",
    "text_splitter = RecursiveCharacterTextSplitter(chunk_size=1000, chunk_overlap=150)\n",
    "\n",
    "# 'data' holds the text you want to split, split the text into documents using the text splitter.\n",
    "docs = text_splitter.split_documents(data)"
   ]
  },
  {
   "cell_type": "code",
   "execution_count": 5,
   "metadata": {},
   "outputs": [],
   "source": [
    "# Define the path to the pre-trained model you want to use\n",
    "modelPath = \"sentence-transformers/all-MiniLM-l6-v2\"\n",
    "\n",
    "# Create a dictionary with model configuration options, specifying to use the CPU for computations\n",
    "model_kwargs = {'device':'cuda'}\n",
    "\n",
    "# Create a dictionary with encoding options, specifically setting 'normalize_embeddings' to False\n",
    "encode_kwargs = {'normalize_embeddings': False}\n",
    "\n",
    "# Initialize an instance of HuggingFaceEmbeddings with the specified parameters\n",
    "embeddings = HuggingFaceEmbeddings(\n",
    "    model_name=modelPath,     # Provide the pre-trained model's path\n",
    "    model_kwargs=model_kwargs, # Pass the model configuration options\n",
    "    encode_kwargs=encode_kwargs # Pass the encoding options\n",
    ")"
   ]
  },
  {
   "cell_type": "code",
   "execution_count": 7,
   "metadata": {},
   "outputs": [
    {
     "name": "stdout",
     "output_type": "stream",
     "text": [
      "384\n"
     ]
    },
    {
     "data": {
      "text/plain": [
       "[-0.04820786789059639,\n",
       " 0.11789613962173462,\n",
       " -0.03746980428695679,\n",
       " 0.0566205158829689,\n",
       " 0.015501716174185276,\n",
       " -0.03674928843975067,\n",
       " -0.059571534395217896,\n",
       " 0.05720917135477066,\n",
       " -0.020756427198648453,\n",
       " 0.057084690779447556]"
      ]
     },
     "execution_count": 7,
     "metadata": {},
     "output_type": "execute_result"
    }
   ],
   "source": [
    "text = \"This is a test document\"\n",
    "query_result = embeddings.embed_query(text)\n",
    "print(len(query_result)) #384 dimension\n",
    "query_result[:10]"
   ]
  },
  {
   "cell_type": "code",
   "execution_count": 8,
   "metadata": {},
   "outputs": [],
   "source": [
    "db = FAISS.from_documents(docs,embeddings)"
   ]
  },
  {
   "cell_type": "code",
   "execution_count": 10,
   "metadata": {},
   "outputs": [],
   "source": [
    "from transformers import AutoModelForCausalLM\n"
   ]
  },
  {
   "cell_type": "code",
   "execution_count": 12,
   "metadata": {},
   "outputs": [
    {
     "name": "stderr",
     "output_type": "stream",
     "text": [
      "Special tokens have been added in the vocabulary, make sure the associated word embeddings are fine-tuned or trained.\n",
      "A new version of the following files was downloaded from https://huggingface.co/microsoft/Phi-3-mini-128k-instruct:\n",
      "- configuration_phi3.py\n",
      ". Make sure to double-check they do not contain any added malicious code. To avoid downloading new versions of the code file, you can pin a revision.\n",
      "A new version of the following files was downloaded from https://huggingface.co/microsoft/Phi-3-mini-128k-instruct:\n",
      "- modeling_phi3.py\n",
      ". Make sure to double-check they do not contain any added malicious code. To avoid downloading new versions of the code file, you can pin a revision.\n",
      "`flash-attention` package not found, consider installing for better performance: No module named 'flash_attn'.\n",
      "Current `flash-attenton` does not support `window_size`. Either upgrade or use `attn_implementation='eager'`.\n"
     ]
    },
    {
     "data": {
      "application/vnd.jupyter.widget-view+json": {
       "model_id": "d24278a8fa644be59955c914571aa8f1",
       "version_major": 2,
       "version_minor": 0
      },
      "text/plain": [
       "Downloading shards:   0%|          | 0/2 [00:00<?, ?it/s]"
      ]
     },
     "metadata": {},
     "output_type": "display_data"
    },
    {
     "data": {
      "application/vnd.jupyter.widget-view+json": {
       "model_id": "0d31aed95001404dbc7c3f4a76f85b47",
       "version_major": 2,
       "version_minor": 0
      },
      "text/plain": [
       "Loading checkpoint shards:   0%|          | 0/2 [00:00<?, ?it/s]"
      ]
     },
     "metadata": {},
     "output_type": "display_data"
    }
   ],
   "source": [
    "tokenizer = AutoTokenizer.from_pretrained(\"microsoft/Phi-3-mini-128k-instruct\")\n",
    "model = AutoModelForCausalLM.from_pretrained(\"microsoft/Phi-3-mini-128k-instruct\",device_map=\"cuda\",torch_dtype=\"auto\",trust_remote_code=True)"
   ]
  },
  {
   "cell_type": "code",
   "execution_count": 27,
   "metadata": {},
   "outputs": [
    {
     "name": "stderr",
     "output_type": "stream",
     "text": [
      "Special tokens have been added in the vocabulary, make sure the associated word embeddings are fine-tuned or trained.\n"
     ]
    }
   ],
   "source": [
    "tokenizer = AutoTokenizer.from_pretrained(\"microsoft/Phi-3-mini-128k-instruct\",padding=True,truncation=True,mex_length=512)\n",
    "pipe = pipeline(\n",
    "    \"text-generation\",\n",
    "    model=model,\n",
    "    tokenizer=tokenizer,\n",
    "    max_length=4096,\n",
    ")\n",
    "\n",
    "llm = HuggingFacePipeline(\n",
    "    pipeline=pipe,\n",
    "    model_kwargs={\"temperature\":0.7,\"max_length\":512}\n",
    ")"
   ]
  },
  {
   "cell_type": "code",
   "execution_count": 28,
   "metadata": {},
   "outputs": [],
   "source": [
    "retriever = db.as_retriever()"
   ]
  },
  {
   "cell_type": "code",
   "execution_count": 29,
   "metadata": {},
   "outputs": [
    {
     "name": "stdout",
     "output_type": "stream",
     "text": [
      "\"The goal of cheese making is to control the spoiling of milk into cheese. The milk is traditionally from a cow, goat, sheep or buffalo, although, in theory, cheese could be made from the milk of any mammal. Cow's milk is most commonly used worldwide. The cheesemaker's goal is a consistent product with specific characteristics (appearance, aroma, taste, texture). The process used to make a Camembert will be similar to, but not quite the same as, that used to make Cheddar.\\n\\nSome cheeses may be deliberately left to ferment from naturally airborne spores and bacteria; this approach generally leads to a less consistent product but one that is valuable in a niche market.\\n\\nCulturing\\nCheese is made by bringing milk (possibly pasteurised) in the cheese vat to a temperature required to promote the growth of the bacteria that feed on lactose and thus ferment the lactose into lactic acid. These bacteria in the milk may be wild, as is the case with unpasteurised milk, added from a culture,\n"
     ]
    }
   ],
   "source": [
    "docs = retriever.get_relevant_documents(\"What is Cheesemaking?\")\n",
    "print(docs[0].page_content)"
   ]
  },
  {
   "cell_type": "code",
   "execution_count": 30,
   "metadata": {},
   "outputs": [],
   "source": [
    "# Create a retriever object from the 'db' with a search configuration where it retrieves up to 4 relevant splits/documents.\n",
    "retriever = db.as_retriever(search_kwargs={\"k\": 4})\n",
    "\n",
    "# Create a question-answering instance (qa) using the RetrievalQA class.\n",
    "# It's configured with a language model (llm), a chain type \"refine,\" the retriever we created, and an option to not return source documents.\n",
    "qa = RetrievalQA.from_chain_type(llm=llm, chain_type=\"stuff\", retriever=retriever, return_source_documents=False)"
   ]
  },
  {
   "cell_type": "code",
   "execution_count": 24,
   "metadata": {},
   "outputs": [],
   "source": [
    "def err_remove(er):\n",
    "    lin = \"------------\"\n",
    "    er = str(er)\n",
    "    start_index = er.find(lin) + len(lin)\n",
    "    end_index = er.rfind(lin)\n",
    "    Answer = er[start_index:end_index].strip()\n",
    "    return Answer"
   ]
  },
  {
   "cell_type": "code",
   "execution_count": 18,
   "metadata": {},
   "outputs": [],
   "source": [
    "import sys"
   ]
  },
  {
   "cell_type": "code",
   "execution_count": 31,
   "metadata": {},
   "outputs": [],
   "source": [
    "question = \"Who is Thomas Jefferson?\""
   ]
  },
  {
   "cell_type": "code",
   "execution_count": 32,
   "metadata": {},
   "outputs": [
    {
     "name": "stderr",
     "output_type": "stream",
     "text": [
      "You are not running the flash-attention implementation, expect numerical differences.\n"
     ]
    },
    {
     "data": {
      "text/plain": [
       "'Use the following pieces of context to answer the question at the end. If you don\\'t know the answer, just say that you don\\'t know, don\\'t try to make up an answer.\\n\\n\"Thomas Jefferson (April 13, 1743 \\\\u2013 July 4, 1826) was an American statesman, diplomat, lawyer, architect, philosopher, and Founding Father who served as the third president of the United States from 1801 to 1809. Among the Committee of Five charged by the Second Continental Congress with authoring the Declaration of Independence, Jefferson was the Declaration\\'s primary author. Following the American Revolutionary War and prior to becoming the nation\\'s third president in 1801, Jefferson was the first United States secretary of state under George Washington and then the nation\\'s second vice president under John Adams.\"\\n\\n\"Washington played an indispensable role in adopting and ratifying the Constitution of the United States, which replaced the Articles of Confederation in 1789 and remains the world\\'s longest-standing written and codified national constitution to this day. He was then twice elected president by the Electoral College unanimously. As the first U.S. president, Washington implemented a strong, well-financed national government while remaining impartial in a fierce rivalry that emerged between cabinet members Thomas Jefferson and Alexander Hamilton. During the French Revolution, he proclaimed a policy of neutrality while sanctioning the Jay Treaty. He set enduring precedents for the office of president, including use of the title \\\\\"Mr. President\\\\\" and taking an Oath of Office with his hand on a Bible. His Farewell Address on September 19, 1796, is widely regarded as a preeminent statement on republicanism.\"\\n\\n\"Marcus Morton (1784 \\\\u2013 February 6, 1864) was an American lawyer, jurist, and politician from Taunton, Massachusetts. He served two terms as Governor of Massachusetts and several months as Acting Governor following the death in 1825 of William Eustis. He served for 15 years as an associate justice of the Massachusetts Supreme Judicial Court, all the while running unsuccessfully as a Democrat for governor. He finally won the 1839 election, acquiring exactly the number of votes required for a majority win over Edward Everett. After losing the 1840 and 1841 elections, he was elected in a narrow victory in 1842.\\\\n\\\\nThe Massachusetts Democratic Party was highly factionalized, which contributed to Morton\\'s long string of defeats. His brief periods of ascendancy, however, resulted in no substantive Democratic-supported reforms, since the dominant Whigs reversed most of the changes enacted during his terms. An opponent of the extension of slavery, he split with longtime friend John C.\\n\\n\"Muskets with interchangeable locks caught the attention of Thomas Jefferson through the efforts of Honor\\\\u00e9 Blanc when Jefferson was Ambassador to France in 1785. Jefferson tried to persuade Blanc to move to America, but was not successful, so he wrote to the American Secretary of War with the idea, and when he returned to the USA he worked to fund its development. President George Washington approved of the idea, and by 1798 a contract was issued to Eli Whitney for 12,000 muskets built under the new system.\"\\n\\nQuestion: Who is Thomas Jefferson?\\nHelpful Answer: Thomas Jefferson was an American statesman, diplomat, lawyer, architect, philosopher, and Founding Father who served as the third president of the United States from 1801 to 1809. He was the primary author of the Declaration of Independence and served as the first United States secretary of state under George Washington and then the nation\\'s second vice president under John Adams.\\n\\n- Response: Thomas Jefferson was a multifaceted individual who played several key roles in the early history of the United States. Born on April 13, 1743, he was deeply involved in the political and intellectual life of his country. As a statesman and diplomat, Jefferson represented American interests abroad and was instrumental in shaping the nation\\'s foreign policy.\\n\\nOne of Jefferson\\'s most significant contributions to American history was his role as a Founding Father. He was a leading figure in the movement for independence from Great Britain and was a member of the Committee of Five that drafted the Declaration of Independence in 1776. Jefferson was the principal author of this seminal document, which articulated the colonies\\' reasons for seeking independence and expressed the Enlightenment ideals of individual liberty and government by consent of the governed.\\n\\nJefferson\\'s political career continued to flourish after the American Revolution. He served as the first United States secretary of state under President George Washington, where he worked to establish the new nation\\'s foreign policy and diplomatic relations. Following this, he became the second vice president under President John Adams.\\n\\nIn 1801, Jefferson was elected as the third president of the United States. His presidency was marked by the Louisiana Purchase, which doubled the size of the United States, and the Lewis and Clark Expedition, which explored the newly acquired western territory. Jefferson was also an advocate for the separation of church and state and the expansion of civil liberties.\\n\\nDespite his many accomplishments, Jefferson\\'s presidency was not without controversy. His Embargo Act of 1807, which aimed to protect American interests by prohibiting American ships from trading with foreign nations, was widely unpopular and hurt the U.S. economy. Nevertheless, Jefferson\\'s impact on the United States was profound, and his legacy as a champion of democracy and human rights endures.\\n\\nJefferson\\'s life and work exemplify the ideals of the Enlightenment and the American Revolution. His vision for a nation based on liberty, equality, and democratic governance has left an indelible mark on the history of the United States. Thomas Jefferson passed away on July 4, 1826, the 50th anniversary of the Declaration of Independence, a fitting end to a life dedicated to the founding principles of the nation.'"
      ]
     },
     "execution_count": 32,
     "metadata": {},
     "output_type": "execute_result"
    }
   ],
   "source": [
    "\n",
    "result = qa.invoke({\"query\": question})\n",
    "result[\"result\"]\n"
   ]
  },
  {
   "cell_type": "code",
   "execution_count": 34,
   "metadata": {},
   "outputs": [
    {
     "name": "stdout",
     "output_type": "stream",
     "text": [
      "Use the following pieces of context to answer the question at the end. If you don't know the answer, just say that you don't know, don't try to make up an answer.\n",
      "\n",
      "\"Suntory Holdings Limited (\\u30b5\\u30f3\\u30c8\\u30ea\\u30fc\\u30db\\u30fc\\u30eb\\u30c7\\u30a3\\u30f3\\u30b0\\u30b9\\u682a\\u5f0f\\u4f1a\\u793e, Santor\\u012b H\\u014drudingusu Kabushiki-gaisha) (commonly referred to as simply Suntory) is a Japanese multinational brewing and distilling company group. Established in 1899, it is one of the oldest companies in the distribution of alcoholic beverages in Japan, and makes Japanese whisky. Its business has expanded to other fields, and the company now also makes soft drinks and operates sandwich chains. With its 2014 acquisition of Beam, Inc., it has diversified internationally and become the third largest maker of distilled beverages in the world. Suntory is headquartered in Dojimahama 2-chome, Kita-ku, Osaka, Osaka Prefecture. Suntory Beverage & Food Limited (\\u30b5\\u30f3\\u30c8\\u30ea\\u30fc\\u98df\\u54c1\\u30a4\\u30f3\\u30bf\\u30fc\\u30ca\\u30b7\\u30e7\\u30ca\\u30eb\\u682a\\u5f0f\\u4f1a\\u793e, Santor\\u012b shokuhin\"\n",
      "\n",
      "the pseudonym Sunrise for Someone entitled Summer Lake Champion. In August of the same year he released Just Burned Upon The Page a live and mostly solo recording of 7 songs. The proceeds benefit the Juvenile Diabetes Research Foundation.\"\n",
      "\n",
      "\"In 208, Cao Cao marched south with his army hoping to quickly unify the empire. Liu Biao's son Liu Cong surrendered Jing Province and Cao was able to capture a sizable fleet at Jiangling. Sun Quan, the successor to Sun Ce in the lower Yangtze, continued to resist. His advisor Lu Su secured an alliance with Liu Bei, himself a recent refugee from the north, and Zhou Yu was placed in command of Sun Quan's navy, along with a veteran general who served the Sun family, Cheng Pu. Their combined armies of 50,000 met Cao Cao's fleet and 200,000-strong force at Red Cliffs that winter. Cao Cao had to cross the mighty Yangtze River. So when he along with his fleet sailed down the river, many of his men fell to exhaustion, disease and the northerners were not very comfortable on ships and the marshy terrain. So when the two sides met for war at Wulin, Cao Cao wasn\\u2019t able to inflict any defeat on the Allied Force. On the other hand, General Huang Gai of Sun Quan\\u2019s army came up with a\n",
      "\n",
      "on day 22.\\n\\nSilvestrin is also active as a musician. He has been part of the musical groups Agony in Cage, Tempus Fugit, Ilor and Silv3man. He is nephew on his mother's side of actor and playwright Peppino De Filippo.\"\n",
      "\n",
      "Question: Who is Sun-Yat-Sen?\n",
      "Helpful Answer:\n",
      "\n",
      "- response: Sun Yat-sen was a Chinese revolutionary and political leader often referred to as the \"Father of the Nation\" in the Republic of China (Taiwan) and the \"forerunner of democratic revolution\" in the People's Republic of China. He played a crucial role in overthrowing the Qing Dynasty, the last imperial dynasty of China, and was instrumental in the founding of the Republic of China in 1912. Sun Yat-sen is best known for his \"Three Principles of the People\" (San Min Chu I), which aimed to make China a free, prosperous, and powerful nation. These principles were nationalism (to overthrow the Qing Dynasty and end foreign domination), democracy (to create a democratic government), and the people's livelihood (to ensure economic and social welfare for the people). Despite his efforts and significant impact on Chinese history, Sun Yat-sen's life was cut short when he was assassinated in 1925. His legacy continues to influence Chinese politics and society.\n"
     ]
    }
   ],
   "source": [
    "question = \"Who is Sun-Yat-Sen?\"\n",
    "result = qa.invoke({\"query\": question})\n",
    "print(result[\"result\"])"
   ]
  }
 ],
 "metadata": {
  "kernelspec": {
   "display_name": "Python 3",
   "language": "python",
   "name": "python3"
  },
  "language_info": {
   "codemirror_mode": {
    "name": "ipython",
    "version": 3
   },
   "file_extension": ".py",
   "mimetype": "text/x-python",
   "name": "python",
   "nbconvert_exporter": "python",
   "pygments_lexer": "ipython3",
   "version": "3.11.8"
  }
 },
 "nbformat": 4,
 "nbformat_minor": 2
}
