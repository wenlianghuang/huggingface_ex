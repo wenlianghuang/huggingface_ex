{
 "cells": [
  {
   "cell_type": "code",
   "execution_count": 3,
   "metadata": {},
   "outputs": [
    {
     "data": {
      "application/vnd.jupyter.widget-view+json": {
       "model_id": "934517b3e0d649ca9b669a6ac6f0b21c",
       "version_major": 2,
       "version_minor": 0
      },
      "text/plain": [
       "VBox(children=(HTML(value='<center> <img\\nsrc=https://huggingface.co/front/assets/huggingface_logo-noborder.sv…"
      ]
     },
     "metadata": {},
     "output_type": "display_data"
    }
   ],
   "source": [
    "from huggingface_hub import notebook_login\n",
    "notebook_login()"
   ]
  },
  {
   "cell_type": "code",
   "execution_count": 4,
   "metadata": {},
   "outputs": [
    {
     "name": "stdout",
     "output_type": "stream",
     "text": [
      "Requirement already satisfied: ipywidgets in c:\\users\\acer alan\\appdata\\local\\programs\\python\\python311\\lib\\site-packages (8.1.2)\n",
      "Requirement already satisfied: comm>=0.1.3 in c:\\users\\acer alan\\appdata\\local\\programs\\python\\python311\\lib\\site-packages (from ipywidgets) (0.2.2)\n",
      "Requirement already satisfied: ipython>=6.1.0 in c:\\users\\acer alan\\appdata\\local\\programs\\python\\python311\\lib\\site-packages (from ipywidgets) (8.23.0)\n",
      "Requirement already satisfied: traitlets>=4.3.1 in c:\\users\\acer alan\\appdata\\local\\programs\\python\\python311\\lib\\site-packages (from ipywidgets) (5.14.2)\n",
      "Requirement already satisfied: widgetsnbextension~=4.0.10 in c:\\users\\acer alan\\appdata\\local\\programs\\python\\python311\\lib\\site-packages (from ipywidgets) (4.0.10)\n",
      "Requirement already satisfied: jupyterlab-widgets~=3.0.10 in c:\\users\\acer alan\\appdata\\local\\programs\\python\\python311\\lib\\site-packages (from ipywidgets) (3.0.10)\n",
      "Requirement already satisfied: decorator in c:\\users\\acer alan\\appdata\\local\\programs\\python\\python311\\lib\\site-packages (from ipython>=6.1.0->ipywidgets) (5.1.1)\n",
      "Requirement already satisfied: jedi>=0.16 in c:\\users\\acer alan\\appdata\\local\\programs\\python\\python311\\lib\\site-packages (from ipython>=6.1.0->ipywidgets) (0.19.1)\n",
      "Requirement already satisfied: matplotlib-inline in c:\\users\\acer alan\\appdata\\local\\programs\\python\\python311\\lib\\site-packages (from ipython>=6.1.0->ipywidgets) (0.1.6)\n",
      "Requirement already satisfied: prompt-toolkit<3.1.0,>=3.0.41 in c:\\users\\acer alan\\appdata\\local\\programs\\python\\python311\\lib\\site-packages (from ipython>=6.1.0->ipywidgets) (3.0.43)\n",
      "Requirement already satisfied: pygments>=2.4.0 in c:\\users\\acer alan\\appdata\\local\\programs\\python\\python311\\lib\\site-packages (from ipython>=6.1.0->ipywidgets) (2.17.2)\n",
      "Requirement already satisfied: stack-data in c:\\users\\acer alan\\appdata\\local\\programs\\python\\python311\\lib\\site-packages (from ipython>=6.1.0->ipywidgets) (0.6.3)\n",
      "Requirement already satisfied: typing-extensions in c:\\users\\acer alan\\appdata\\local\\programs\\python\\python311\\lib\\site-packages (from ipython>=6.1.0->ipywidgets) (4.8.0)\n",
      "Requirement already satisfied: colorama in c:\\users\\acer alan\\appdata\\local\\programs\\python\\python311\\lib\\site-packages (from ipython>=6.1.0->ipywidgets) (0.4.6)\n",
      "Requirement already satisfied: parso<0.9.0,>=0.8.3 in c:\\users\\acer alan\\appdata\\local\\programs\\python\\python311\\lib\\site-packages (from jedi>=0.16->ipython>=6.1.0->ipywidgets) (0.8.3)\n",
      "Requirement already satisfied: wcwidth in c:\\users\\acer alan\\appdata\\local\\programs\\python\\python311\\lib\\site-packages (from prompt-toolkit<3.1.0,>=3.0.41->ipython>=6.1.0->ipywidgets) (0.2.13)\n",
      "Requirement already satisfied: executing>=1.2.0 in c:\\users\\acer alan\\appdata\\local\\programs\\python\\python311\\lib\\site-packages (from stack-data->ipython>=6.1.0->ipywidgets) (2.0.1)\n",
      "Requirement already satisfied: asttokens>=2.1.0 in c:\\users\\acer alan\\appdata\\local\\programs\\python\\python311\\lib\\site-packages (from stack-data->ipython>=6.1.0->ipywidgets) (2.4.1)\n",
      "Requirement already satisfied: pure-eval in c:\\users\\acer alan\\appdata\\local\\programs\\python\\python311\\lib\\site-packages (from stack-data->ipython>=6.1.0->ipywidgets) (0.2.2)\n",
      "Requirement already satisfied: six>=1.12.0 in c:\\users\\acer alan\\appdata\\local\\programs\\python\\python311\\lib\\site-packages (from asttokens>=2.1.0->stack-data->ipython>=6.1.0->ipywidgets) (1.16.0)\n"
     ]
    }
   ],
   "source": [
    "!pip install ipywidgets"
   ]
  },
  {
   "cell_type": "code",
   "execution_count": 5,
   "metadata": {},
   "outputs": [
    {
     "name": "stdout",
     "output_type": "stream",
     "text": [
      "Requirement already satisfied: transformers in c:\\users\\acer alan\\appdata\\local\\programs\\python\\python311\\lib\\site-packages (4.39.3)\n",
      "Collecting transformers\n",
      "  Downloading transformers-4.40.1-py3-none-any.whl.metadata (137 kB)\n",
      "     ---------------------------------------- 0.0/138.0 kB ? eta -:--:--\n",
      "     -- ------------------------------------- 10.2/138.0 kB ? eta -:--:--\n",
      "     -- ------------------------------------- 10.2/138.0 kB ? eta -:--:--\n",
      "     -------- ---------------------------- 30.7/138.0 kB 220.2 kB/s eta 0:00:01\n",
      "     ---------------- -------------------- 61.4/138.0 kB 299.4 kB/s eta 0:00:01\n",
      "     ------------------------ ------------ 92.2/138.0 kB 403.5 kB/s eta 0:00:01\n",
      "     ------------------------------------ 138.0/138.0 kB 511.0 kB/s eta 0:00:00\n",
      "Requirement already satisfied: accelerate in c:\\users\\acer alan\\appdata\\local\\programs\\python\\python311\\lib\\site-packages (0.29.2)\n",
      "Collecting accelerate\n",
      "  Downloading accelerate-0.29.3-py3-none-any.whl.metadata (18 kB)\n",
      "Requirement already satisfied: filelock in c:\\users\\acer alan\\appdata\\local\\programs\\python\\python311\\lib\\site-packages (from transformers) (3.9.0)\n",
      "Requirement already satisfied: huggingface-hub<1.0,>=0.19.3 in c:\\users\\acer alan\\appdata\\local\\programs\\python\\python311\\lib\\site-packages (from transformers) (0.22.2)\n",
      "Requirement already satisfied: numpy>=1.17 in c:\\users\\acer alan\\appdata\\local\\programs\\python\\python311\\lib\\site-packages (from transformers) (1.26.3)\n",
      "Requirement already satisfied: packaging>=20.0 in c:\\users\\acer alan\\appdata\\local\\programs\\python\\python311\\lib\\site-packages (from transformers) (24.0)\n",
      "Requirement already satisfied: pyyaml>=5.1 in c:\\users\\acer alan\\appdata\\local\\programs\\python\\python311\\lib\\site-packages (from transformers) (6.0.1)\n",
      "Requirement already satisfied: regex!=2019.12.17 in c:\\users\\acer alan\\appdata\\local\\programs\\python\\python311\\lib\\site-packages (from transformers) (2023.12.25)\n",
      "Requirement already satisfied: requests in c:\\users\\acer alan\\appdata\\local\\programs\\python\\python311\\lib\\site-packages (from transformers) (2.28.1)\n",
      "Collecting tokenizers<0.20,>=0.19 (from transformers)\n",
      "  Downloading tokenizers-0.19.1-cp311-none-win_amd64.whl.metadata (6.9 kB)\n",
      "Requirement already satisfied: safetensors>=0.4.1 in c:\\users\\acer alan\\appdata\\local\\programs\\python\\python311\\lib\\site-packages (from transformers) (0.4.3)\n",
      "Requirement already satisfied: tqdm>=4.27 in c:\\users\\acer alan\\appdata\\local\\programs\\python\\python311\\lib\\site-packages (from transformers) (4.66.2)\n",
      "Requirement already satisfied: psutil in c:\\users\\acer alan\\appdata\\local\\programs\\python\\python311\\lib\\site-packages (from accelerate) (5.9.8)\n",
      "Requirement already satisfied: torch>=1.10.0 in c:\\users\\acer alan\\appdata\\local\\programs\\python\\python311\\lib\\site-packages (from accelerate) (2.2.0+cu118)\n",
      "Requirement already satisfied: fsspec>=2023.5.0 in c:\\users\\acer alan\\appdata\\local\\programs\\python\\python311\\lib\\site-packages (from huggingface-hub<1.0,>=0.19.3->transformers) (2024.3.1)\n",
      "Requirement already satisfied: typing-extensions>=3.7.4.3 in c:\\users\\acer alan\\appdata\\local\\programs\\python\\python311\\lib\\site-packages (from huggingface-hub<1.0,>=0.19.3->transformers) (4.8.0)\n",
      "Requirement already satisfied: sympy in c:\\users\\acer alan\\appdata\\local\\programs\\python\\python311\\lib\\site-packages (from torch>=1.10.0->accelerate) (1.12)\n",
      "Requirement already satisfied: networkx in c:\\users\\acer alan\\appdata\\local\\programs\\python\\python311\\lib\\site-packages (from torch>=1.10.0->accelerate) (3.2.1)\n",
      "Requirement already satisfied: jinja2 in c:\\users\\acer alan\\appdata\\local\\programs\\python\\python311\\lib\\site-packages (from torch>=1.10.0->accelerate) (3.1.2)\n",
      "Requirement already satisfied: colorama in c:\\users\\acer alan\\appdata\\local\\programs\\python\\python311\\lib\\site-packages (from tqdm>=4.27->transformers) (0.4.6)\n",
      "Requirement already satisfied: charset-normalizer<3,>=2 in c:\\users\\acer alan\\appdata\\local\\programs\\python\\python311\\lib\\site-packages (from requests->transformers) (2.1.1)\n",
      "Requirement already satisfied: idna<4,>=2.5 in c:\\users\\acer alan\\appdata\\local\\programs\\python\\python311\\lib\\site-packages (from requests->transformers) (3.4)\n",
      "Requirement already satisfied: urllib3<1.27,>=1.21.1 in c:\\users\\acer alan\\appdata\\local\\programs\\python\\python311\\lib\\site-packages (from requests->transformers) (1.26.13)\n",
      "Requirement already satisfied: certifi>=2017.4.17 in c:\\users\\acer alan\\appdata\\local\\programs\\python\\python311\\lib\\site-packages (from requests->transformers) (2022.12.7)\n",
      "Requirement already satisfied: MarkupSafe>=2.0 in c:\\users\\acer alan\\appdata\\local\\programs\\python\\python311\\lib\\site-packages (from jinja2->torch>=1.10.0->accelerate) (2.1.3)\n",
      "Requirement already satisfied: mpmath>=0.19 in c:\\users\\acer alan\\appdata\\local\\programs\\python\\python311\\lib\\site-packages (from sympy->torch>=1.10.0->accelerate) (1.3.0)\n",
      "Downloading transformers-4.40.1-py3-none-any.whl (9.0 MB)\n",
      "   ---------------------------------------- 0.0/9.0 MB ? eta -:--:--\n",
      "    --------------------------------------- 0.1/9.0 MB 6.8 MB/s eta 0:00:02\n",
      "    --------------------------------------- 0.1/9.0 MB 6.8 MB/s eta 0:00:02\n",
      "    --------------------------------------- 0.2/9.0 MB 1.4 MB/s eta 0:00:07\n",
      "   - -------------------------------------- 0.2/9.0 MB 1.5 MB/s eta 0:00:06\n",
      "   - -------------------------------------- 0.3/9.0 MB 1.3 MB/s eta 0:00:07\n",
      "   - -------------------------------------- 0.4/9.0 MB 1.5 MB/s eta 0:00:06\n",
      "   - -------------------------------------- 0.4/9.0 MB 1.5 MB/s eta 0:00:06\n",
      "   -- ------------------------------------- 0.5/9.0 MB 1.3 MB/s eta 0:00:07\n",
      "   -- ------------------------------------- 0.5/9.0 MB 1.3 MB/s eta 0:00:07\n",
      "   -- ------------------------------------- 0.6/9.0 MB 1.3 MB/s eta 0:00:07\n",
      "   -- ------------------------------------- 0.6/9.0 MB 1.3 MB/s eta 0:00:07\n",
      "   --- ------------------------------------ 0.7/9.0 MB 1.3 MB/s eta 0:00:07\n",
      "   --- ------------------------------------ 0.7/9.0 MB 1.3 MB/s eta 0:00:07\n",
      "   --- ------------------------------------ 0.8/9.0 MB 1.3 MB/s eta 0:00:07\n",
      "   --- ------------------------------------ 0.9/9.0 MB 1.3 MB/s eta 0:00:07\n",
      "   ---- ----------------------------------- 0.9/9.0 MB 1.3 MB/s eta 0:00:07\n",
      "   ---- ----------------------------------- 1.0/9.0 MB 1.3 MB/s eta 0:00:07\n",
      "   ---- ----------------------------------- 1.0/9.0 MB 1.3 MB/s eta 0:00:07\n",
      "   ---- ----------------------------------- 1.1/9.0 MB 1.3 MB/s eta 0:00:07\n",
      "   ----- ---------------------------------- 1.1/9.0 MB 1.3 MB/s eta 0:00:07\n",
      "   ----- ---------------------------------- 1.2/9.0 MB 1.3 MB/s eta 0:00:07\n",
      "   ----- ---------------------------------- 1.3/9.0 MB 1.3 MB/s eta 0:00:07\n",
      "   ----- ---------------------------------- 1.3/9.0 MB 1.2 MB/s eta 0:00:07\n",
      "   ------ --------------------------------- 1.4/9.0 MB 1.3 MB/s eta 0:00:07\n",
      "   ------ --------------------------------- 1.4/9.0 MB 1.3 MB/s eta 0:00:07\n",
      "   ------ --------------------------------- 1.5/9.0 MB 1.3 MB/s eta 0:00:06\n",
      "   ------ --------------------------------- 1.6/9.0 MB 1.3 MB/s eta 0:00:06\n",
      "   ------- -------------------------------- 1.6/9.0 MB 1.2 MB/s eta 0:00:06\n",
      "   ------- -------------------------------- 1.7/9.0 MB 1.3 MB/s eta 0:00:06\n",
      "   ------- -------------------------------- 1.7/9.0 MB 1.2 MB/s eta 0:00:06\n",
      "   ------- -------------------------------- 1.8/9.0 MB 1.2 MB/s eta 0:00:06\n",
      "   -------- ------------------------------- 1.8/9.0 MB 1.2 MB/s eta 0:00:06\n",
      "   -------- ------------------------------- 1.9/9.0 MB 1.2 MB/s eta 0:00:06\n",
      "   -------- ------------------------------- 2.0/9.0 MB 1.2 MB/s eta 0:00:06\n",
      "   -------- ------------------------------- 2.0/9.0 MB 1.2 MB/s eta 0:00:06\n",
      "   --------- ------------------------------ 2.1/9.0 MB 1.2 MB/s eta 0:00:06\n",
      "   --------- ------------------------------ 2.1/9.0 MB 1.2 MB/s eta 0:00:06\n",
      "   --------- ------------------------------ 2.2/9.0 MB 1.2 MB/s eta 0:00:06\n",
      "   --------- ------------------------------ 2.2/9.0 MB 1.2 MB/s eta 0:00:06\n",
      "   ---------- ----------------------------- 2.3/9.0 MB 1.2 MB/s eta 0:00:06\n",
      "   ---------- ----------------------------- 2.3/9.0 MB 1.2 MB/s eta 0:00:06\n",
      "   ---------- ----------------------------- 2.4/9.0 MB 1.2 MB/s eta 0:00:06\n",
      "   ---------- ----------------------------- 2.5/9.0 MB 1.2 MB/s eta 0:00:06\n",
      "   ----------- ---------------------------- 2.5/9.0 MB 1.2 MB/s eta 0:00:06\n",
      "   ----------- ---------------------------- 2.6/9.0 MB 1.2 MB/s eta 0:00:06\n",
      "   ----------- ---------------------------- 2.6/9.0 MB 1.2 MB/s eta 0:00:06\n",
      "   ----------- ---------------------------- 2.7/9.0 MB 1.2 MB/s eta 0:00:06\n",
      "   ------------ --------------------------- 2.7/9.0 MB 1.2 MB/s eta 0:00:06\n",
      "   ------------ --------------------------- 2.8/9.0 MB 1.2 MB/s eta 0:00:06\n",
      "   ------------ --------------------------- 2.9/9.0 MB 1.2 MB/s eta 0:00:05\n",
      "   ------------ --------------------------- 2.9/9.0 MB 1.2 MB/s eta 0:00:05\n",
      "   ------------ --------------------------- 2.9/9.0 MB 1.2 MB/s eta 0:00:05\n",
      "   ------------- -------------------------- 3.0/9.0 MB 1.2 MB/s eta 0:00:05\n",
      "   ------------- -------------------------- 3.1/9.0 MB 1.2 MB/s eta 0:00:05\n",
      "   ------------- -------------------------- 3.1/9.0 MB 1.2 MB/s eta 0:00:05\n",
      "   -------------- ------------------------- 3.2/9.0 MB 1.2 MB/s eta 0:00:05\n",
      "   -------------- ------------------------- 3.2/9.0 MB 1.2 MB/s eta 0:00:05\n",
      "   -------------- ------------------------- 3.3/9.0 MB 1.2 MB/s eta 0:00:05\n",
      "   -------------- ------------------------- 3.3/9.0 MB 1.2 MB/s eta 0:00:05\n",
      "   --------------- ------------------------ 3.4/9.0 MB 1.2 MB/s eta 0:00:05\n",
      "   --------------- ------------------------ 3.4/9.0 MB 1.2 MB/s eta 0:00:05\n",
      "   --------------- ------------------------ 3.5/9.0 MB 1.2 MB/s eta 0:00:05\n",
      "   --------------- ------------------------ 3.6/9.0 MB 1.2 MB/s eta 0:00:05\n",
      "   ---------------- ----------------------- 3.6/9.0 MB 1.2 MB/s eta 0:00:05\n",
      "   ---------------- ----------------------- 3.7/9.0 MB 1.2 MB/s eta 0:00:05\n",
      "   ---------------- ----------------------- 3.7/9.0 MB 1.2 MB/s eta 0:00:05\n",
      "   ----------------- ---------------------- 3.8/9.0 MB 1.2 MB/s eta 0:00:05\n",
      "   ----------------- ---------------------- 3.9/9.0 MB 1.2 MB/s eta 0:00:05\n",
      "   ----------------- ---------------------- 3.9/9.0 MB 1.2 MB/s eta 0:00:05\n",
      "   ----------------- ---------------------- 4.0/9.0 MB 1.2 MB/s eta 0:00:05\n",
      "   ------------------ --------------------- 4.1/9.0 MB 1.2 MB/s eta 0:00:05\n",
      "   ------------------ --------------------- 4.1/9.0 MB 1.2 MB/s eta 0:00:04\n",
      "   ------------------ --------------------- 4.2/9.0 MB 1.2 MB/s eta 0:00:04\n",
      "   ------------------ --------------------- 4.2/9.0 MB 1.2 MB/s eta 0:00:04\n",
      "   ------------------ --------------------- 4.3/9.0 MB 1.2 MB/s eta 0:00:04\n",
      "   ------------------- -------------------- 4.4/9.0 MB 1.2 MB/s eta 0:00:04\n",
      "   ------------------- -------------------- 4.4/9.0 MB 1.2 MB/s eta 0:00:04\n",
      "   ------------------- -------------------- 4.5/9.0 MB 1.2 MB/s eta 0:00:04\n",
      "   -------------------- ------------------- 4.5/9.0 MB 1.2 MB/s eta 0:00:04\n",
      "   -------------------- ------------------- 4.6/9.0 MB 1.2 MB/s eta 0:00:04\n",
      "   -------------------- ------------------- 4.6/9.0 MB 1.2 MB/s eta 0:00:04\n",
      "   -------------------- ------------------- 4.7/9.0 MB 1.2 MB/s eta 0:00:04\n",
      "   --------------------- ------------------ 4.8/9.0 MB 1.2 MB/s eta 0:00:04\n",
      "   --------------------- ------------------ 4.8/9.0 MB 1.2 MB/s eta 0:00:04\n",
      "   --------------------- ------------------ 4.9/9.0 MB 1.2 MB/s eta 0:00:04\n",
      "   ---------------------- ----------------- 5.0/9.0 MB 1.2 MB/s eta 0:00:04\n",
      "   ---------------------- ----------------- 5.0/9.0 MB 1.2 MB/s eta 0:00:04\n",
      "   ---------------------- ----------------- 5.1/9.0 MB 1.2 MB/s eta 0:00:04\n",
      "   ---------------------- ----------------- 5.1/9.0 MB 1.2 MB/s eta 0:00:04\n",
      "   ----------------------- ---------------- 5.2/9.0 MB 1.2 MB/s eta 0:00:04\n",
      "   ----------------------- ---------------- 5.2/9.0 MB 1.2 MB/s eta 0:00:04\n",
      "   ----------------------- ---------------- 5.3/9.0 MB 1.2 MB/s eta 0:00:04\n",
      "   ----------------------- ---------------- 5.4/9.0 MB 1.2 MB/s eta 0:00:03\n",
      "   ----------------------- ---------------- 5.4/9.0 MB 1.2 MB/s eta 0:00:03\n",
      "   ------------------------ --------------- 5.5/9.0 MB 1.2 MB/s eta 0:00:03\n",
      "   ------------------------ --------------- 5.5/9.0 MB 1.2 MB/s eta 0:00:03\n",
      "   ------------------------ --------------- 5.6/9.0 MB 1.2 MB/s eta 0:00:03\n",
      "   ------------------------- -------------- 5.7/9.0 MB 1.2 MB/s eta 0:00:03\n",
      "   ------------------------- -------------- 5.7/9.0 MB 1.2 MB/s eta 0:00:03\n",
      "   ------------------------- -------------- 5.8/9.0 MB 1.2 MB/s eta 0:00:03\n",
      "   ------------------------- -------------- 5.8/9.0 MB 1.2 MB/s eta 0:00:03\n",
      "   -------------------------- ------------- 5.9/9.0 MB 1.2 MB/s eta 0:00:03\n",
      "   -------------------------- ------------- 5.9/9.0 MB 1.2 MB/s eta 0:00:03\n",
      "   -------------------------- ------------- 6.0/9.0 MB 1.2 MB/s eta 0:00:03\n",
      "   -------------------------- ------------- 6.1/9.0 MB 1.2 MB/s eta 0:00:03\n",
      "   --------------------------- ------------ 6.1/9.0 MB 1.2 MB/s eta 0:00:03\n",
      "   --------------------------- ------------ 6.2/9.0 MB 1.2 MB/s eta 0:00:03\n",
      "   --------------------------- ------------ 6.2/9.0 MB 1.2 MB/s eta 0:00:03\n",
      "   --------------------------- ------------ 6.3/9.0 MB 1.2 MB/s eta 0:00:03\n",
      "   ---------------------------- ----------- 6.4/9.0 MB 1.2 MB/s eta 0:00:03\n",
      "   ---------------------------- ----------- 6.4/9.0 MB 1.2 MB/s eta 0:00:03\n",
      "   ---------------------------- ----------- 6.5/9.0 MB 1.2 MB/s eta 0:00:03\n",
      "   ---------------------------- ----------- 6.5/9.0 MB 1.2 MB/s eta 0:00:03\n",
      "   ----------------------------- ---------- 6.6/9.0 MB 1.2 MB/s eta 0:00:02\n",
      "   ----------------------------- ---------- 6.7/9.0 MB 1.2 MB/s eta 0:00:02\n",
      "   ----------------------------- ---------- 6.7/9.0 MB 1.2 MB/s eta 0:00:02\n",
      "   ----------------------------- ---------- 6.7/9.0 MB 1.2 MB/s eta 0:00:02\n",
      "   ------------------------------ --------- 6.8/9.0 MB 1.2 MB/s eta 0:00:02\n",
      "   ------------------------------ --------- 6.9/9.0 MB 1.2 MB/s eta 0:00:02\n",
      "   ------------------------------ --------- 6.9/9.0 MB 1.2 MB/s eta 0:00:02\n",
      "   ------------------------------ --------- 6.9/9.0 MB 1.2 MB/s eta 0:00:02\n",
      "   ------------------------------ --------- 7.0/9.0 MB 1.2 MB/s eta 0:00:02\n",
      "   ------------------------------ --------- 7.0/9.0 MB 1.2 MB/s eta 0:00:02\n",
      "   ------------------------------- -------- 7.0/9.0 MB 1.2 MB/s eta 0:00:02\n",
      "   ------------------------------- -------- 7.1/9.0 MB 1.2 MB/s eta 0:00:02\n",
      "   ------------------------------- -------- 7.1/9.0 MB 1.2 MB/s eta 0:00:02\n",
      "   ------------------------------- -------- 7.1/9.0 MB 1.2 MB/s eta 0:00:02\n",
      "   ------------------------------- -------- 7.1/9.0 MB 1.2 MB/s eta 0:00:02\n",
      "   ------------------------------- -------- 7.2/9.0 MB 1.2 MB/s eta 0:00:02\n",
      "   ------------------------------- -------- 7.2/9.0 MB 1.2 MB/s eta 0:00:02\n",
      "   -------------------------------- ------- 7.3/9.0 MB 1.2 MB/s eta 0:00:02\n",
      "   -------------------------------- ------- 7.3/9.0 MB 1.2 MB/s eta 0:00:02\n",
      "   -------------------------------- ------- 7.3/9.0 MB 1.2 MB/s eta 0:00:02\n",
      "   -------------------------------- ------- 7.4/9.0 MB 1.2 MB/s eta 0:00:02\n",
      "   -------------------------------- ------- 7.4/9.0 MB 1.2 MB/s eta 0:00:02\n",
      "   --------------------------------- ------ 7.5/9.0 MB 1.2 MB/s eta 0:00:02\n",
      "   --------------------------------- ------ 7.5/9.0 MB 1.2 MB/s eta 0:00:02\n",
      "   --------------------------------- ------ 7.5/9.0 MB 1.2 MB/s eta 0:00:02\n",
      "   --------------------------------- ------ 7.6/9.0 MB 1.2 MB/s eta 0:00:02\n",
      "   --------------------------------- ------ 7.6/9.0 MB 1.2 MB/s eta 0:00:02\n",
      "   --------------------------------- ------ 7.6/9.0 MB 1.2 MB/s eta 0:00:02\n",
      "   ---------------------------------- ----- 7.7/9.0 MB 1.2 MB/s eta 0:00:02\n",
      "   ---------------------------------- ----- 7.7/9.0 MB 1.2 MB/s eta 0:00:02\n",
      "   ---------------------------------- ----- 7.7/9.0 MB 1.2 MB/s eta 0:00:02\n",
      "   ---------------------------------- ----- 7.8/9.0 MB 1.1 MB/s eta 0:00:02\n",
      "   ---------------------------------- ----- 7.8/9.0 MB 1.1 MB/s eta 0:00:02\n",
      "   ---------------------------------- ----- 7.8/9.0 MB 1.1 MB/s eta 0:00:02\n",
      "   ----------------------------------- ---- 7.9/9.0 MB 1.1 MB/s eta 0:00:01\n",
      "   ----------------------------------- ---- 7.9/9.0 MB 1.1 MB/s eta 0:00:01\n",
      "   ----------------------------------- ---- 8.0/9.0 MB 1.1 MB/s eta 0:00:01\n",
      "   ----------------------------------- ---- 8.0/9.0 MB 1.1 MB/s eta 0:00:01\n",
      "   ------------------------------------ --- 8.1/9.0 MB 1.1 MB/s eta 0:00:01\n",
      "   ------------------------------------ --- 8.1/9.0 MB 1.1 MB/s eta 0:00:01\n",
      "   ------------------------------------ --- 8.2/9.0 MB 1.1 MB/s eta 0:00:01\n",
      "   ------------------------------------ --- 8.3/9.0 MB 1.1 MB/s eta 0:00:01\n",
      "   ------------------------------------- -- 8.3/9.0 MB 1.1 MB/s eta 0:00:01\n",
      "   ------------------------------------- -- 8.4/9.0 MB 1.1 MB/s eta 0:00:01\n",
      "   ------------------------------------- -- 8.4/9.0 MB 1.1 MB/s eta 0:00:01\n",
      "   ------------------------------------- -- 8.5/9.0 MB 1.1 MB/s eta 0:00:01\n",
      "   -------------------------------------- - 8.6/9.0 MB 1.1 MB/s eta 0:00:01\n",
      "   -------------------------------------- - 8.6/9.0 MB 1.1 MB/s eta 0:00:01\n",
      "   -------------------------------------- - 8.7/9.0 MB 1.1 MB/s eta 0:00:01\n",
      "   -------------------------------------- - 8.8/9.0 MB 1.1 MB/s eta 0:00:01\n",
      "   ---------------------------------------  8.8/9.0 MB 1.1 MB/s eta 0:00:01\n",
      "   ---------------------------------------  8.9/9.0 MB 1.1 MB/s eta 0:00:01\n",
      "   ---------------------------------------  8.9/9.0 MB 1.1 MB/s eta 0:00:01\n",
      "   ---------------------------------------  9.0/9.0 MB 1.1 MB/s eta 0:00:01\n",
      "   ---------------------------------------- 9.0/9.0 MB 1.1 MB/s eta 0:00:00\n",
      "Downloading accelerate-0.29.3-py3-none-any.whl (297 kB)\n",
      "   ---------------------------------------- 0.0/297.6 kB ? eta -:--:--\n",
      "   --------------- ------------------------ 112.6/297.6 kB 2.2 MB/s eta 0:00:01\n",
      "   --------------- ------------------------ 112.6/297.6 kB 2.2 MB/s eta 0:00:01\n",
      "   ----------------------- ---------------- 174.1/297.6 kB 1.2 MB/s eta 0:00:01\n",
      "   ------------------------------- -------- 235.5/297.6 kB 1.4 MB/s eta 0:00:01\n",
      "   ------------------------------------- -- 276.5/297.6 kB 1.3 MB/s eta 0:00:01\n",
      "   ---------------------------------------- 297.6/297.6 kB 1.1 MB/s eta 0:00:00\n",
      "Downloading tokenizers-0.19.1-cp311-none-win_amd64.whl (2.2 MB)\n",
      "   ---------------------------------------- 0.0/2.2 MB ? eta -:--:--\n",
      "   - -------------------------------------- 0.1/2.2 MB 5.5 MB/s eta 0:00:01\n",
      "   -- ------------------------------------- 0.1/2.2 MB 3.3 MB/s eta 0:00:01\n",
      "   --- ------------------------------------ 0.2/2.2 MB 1.5 MB/s eta 0:00:02\n",
      "   ---- ----------------------------------- 0.2/2.2 MB 1.7 MB/s eta 0:00:02\n",
      "   ---- ----------------------------------- 0.3/2.2 MB 1.3 MB/s eta 0:00:02\n",
      "   ------ --------------------------------- 0.4/2.2 MB 1.4 MB/s eta 0:00:02\n",
      "   ------- -------------------------------- 0.4/2.2 MB 1.3 MB/s eta 0:00:02\n",
      "   ------- -------------------------------- 0.4/2.2 MB 1.1 MB/s eta 0:00:02\n",
      "   ------- -------------------------------- 0.4/2.2 MB 1.1 MB/s eta 0:00:02\n",
      "   ------- -------------------------------- 0.4/2.2 MB 1.1 MB/s eta 0:00:02\n",
      "   --------- ------------------------------ 0.5/2.2 MB 1.1 MB/s eta 0:00:02\n",
      "   --------- ------------------------------ 0.5/2.2 MB 1.1 MB/s eta 0:00:02\n",
      "   ---------- ----------------------------- 0.6/2.2 MB 992.1 kB/s eta 0:00:02\n",
      "   ----------- ---------------------------- 0.7/2.2 MB 1.0 MB/s eta 0:00:02\n",
      "   ------------ --------------------------- 0.7/2.2 MB 1.0 MB/s eta 0:00:02\n",
      "   ------------- -------------------------- 0.7/2.2 MB 1.0 MB/s eta 0:00:02\n",
      "   -------------- ------------------------- 0.8/2.2 MB 1.1 MB/s eta 0:00:02\n",
      "   --------------- ------------------------ 0.9/2.2 MB 1.0 MB/s eta 0:00:02\n",
      "   ---------------- ----------------------- 0.9/2.2 MB 1.1 MB/s eta 0:00:02\n",
      "   ----------------- ---------------------- 1.0/2.2 MB 1.1 MB/s eta 0:00:02\n",
      "   ------------------- -------------------- 1.1/2.2 MB 1.1 MB/s eta 0:00:02\n",
      "   ------------------- -------------------- 1.1/2.2 MB 1.1 MB/s eta 0:00:02\n",
      "   -------------------- ------------------- 1.2/2.2 MB 1.1 MB/s eta 0:00:01\n",
      "   ---------------------- ----------------- 1.2/2.2 MB 1.1 MB/s eta 0:00:01\n",
      "   ---------------------- ----------------- 1.3/2.2 MB 1.1 MB/s eta 0:00:01\n",
      "   ------------------------ --------------- 1.3/2.2 MB 1.1 MB/s eta 0:00:01\n",
      "   ------------------------- -------------- 1.4/2.2 MB 1.1 MB/s eta 0:00:01\n",
      "   -------------------------- ------------- 1.5/2.2 MB 1.1 MB/s eta 0:00:01\n",
      "   --------------------------- ------------ 1.5/2.2 MB 1.1 MB/s eta 0:00:01\n",
      "   ---------------------------- ----------- 1.6/2.2 MB 1.1 MB/s eta 0:00:01\n",
      "   ---------------------------- ----------- 1.6/2.2 MB 1.1 MB/s eta 0:00:01\n",
      "   ------------------------------ --------- 1.7/2.2 MB 1.1 MB/s eta 0:00:01\n",
      "   ------------------------------ --------- 1.7/2.2 MB 1.1 MB/s eta 0:00:01\n",
      "   ------------------------------ --------- 1.7/2.2 MB 1.1 MB/s eta 0:00:01\n",
      "   ------------------------------ --------- 1.7/2.2 MB 1.1 MB/s eta 0:00:01\n",
      "   -------------------------------- ------- 1.8/2.2 MB 1.1 MB/s eta 0:00:01\n",
      "   -------------------------------- ------- 1.8/2.2 MB 1.1 MB/s eta 0:00:01\n",
      "   -------------------------------- ------- 1.8/2.2 MB 1.1 MB/s eta 0:00:01\n",
      "   -------------------------------- ------- 1.8/2.2 MB 1.0 MB/s eta 0:00:01\n",
      "   --------------------------------- ------ 1.9/2.2 MB 1.0 MB/s eta 0:00:01\n",
      "   ---------------------------------- ----- 1.9/2.2 MB 1.0 MB/s eta 0:00:01\n",
      "   ---------------------------------- ----- 1.9/2.2 MB 988.6 kB/s eta 0:00:01\n",
      "   ----------------------------------- ---- 2.0/2.2 MB 991.0 kB/s eta 0:00:01\n",
      "   ------------------------------------ --- 2.0/2.2 MB 983.2 kB/s eta 0:00:01\n",
      "   ------------------------------------ --- 2.0/2.2 MB 980.6 kB/s eta 0:00:01\n",
      "   ------------------------------------- -- 2.1/2.2 MB 971.1 kB/s eta 0:00:01\n",
      "   ------------------------------------- -- 2.1/2.2 MB 964.2 kB/s eta 0:00:01\n",
      "   -------------------------------------- - 2.1/2.2 MB 966.8 kB/s eta 0:00:01\n",
      "   ---------------------------------------  2.2/2.2 MB 963.0 kB/s eta 0:00:01\n",
      "   ---------------------------------------- 2.2/2.2 MB 955.9 kB/s eta 0:00:00\n",
      "Installing collected packages: tokenizers, accelerate, transformers\n",
      "  Attempting uninstall: tokenizers\n",
      "    Found existing installation: tokenizers 0.15.2\n",
      "    Uninstalling tokenizers-0.15.2:\n",
      "      Successfully uninstalled tokenizers-0.15.2\n",
      "  Attempting uninstall: accelerate\n",
      "    Found existing installation: accelerate 0.29.2\n",
      "    Uninstalling accelerate-0.29.2:\n",
      "      Successfully uninstalled accelerate-0.29.2\n",
      "  Attempting uninstall: transformers\n",
      "    Found existing installation: transformers 4.39.3\n",
      "    Uninstalling transformers-4.39.3:\n",
      "      Successfully uninstalled transformers-4.39.3\n",
      "Successfully installed accelerate-0.29.3 tokenizers-0.19.1 transformers-4.40.1\n"
     ]
    },
    {
     "name": "stderr",
     "output_type": "stream",
     "text": [
      "  WARNING: Failed to remove contents in a temporary directory 'C:\\Users\\acer alan\\AppData\\Local\\Programs\\Python\\Python311\\Lib\\site-packages\\~okenizers'.\n",
      "  You can safely remove it manually.\n"
     ]
    }
   ],
   "source": [
    "!pip install -U transformers accelerate"
   ]
  },
  {
   "cell_type": "code",
   "execution_count": 6,
   "metadata": {},
   "outputs": [
    {
     "name": "stderr",
     "output_type": "stream",
     "text": [
      "Special tokens have been added in the vocabulary, make sure the associated word embeddings are fine-tuned or trained.\n",
      "`flash-attention` package not found, consider installing for better performance: No module named 'flash_attn'.\n",
      "Current `flash-attenton` does not support `window_size`. Either upgrade or use `attn_implementation='eager'`.\n"
     ]
    },
    {
     "data": {
      "application/vnd.jupyter.widget-view+json": {
       "model_id": "83c7cc6862dc468e9f5197989460cf20",
       "version_major": 2,
       "version_minor": 0
      },
      "text/plain": [
       "Loading checkpoint shards:   0%|          | 0/2 [00:00<?, ?it/s]"
      ]
     },
     "metadata": {},
     "output_type": "display_data"
    }
   ],
   "source": [
    "from transformers import AutoModelForCausalLM, AutoTokenizer\n",
    "tokenizer = AutoTokenizer.from_pretrained(\"microsoft/Phi-3-mini-128k-instruct\")\n",
    "model = AutoModelForCausalLM.from_pretrained(\n",
    "    \"microsoft/Phi-3-mini-128k-instruct\",\n",
    "    torch_dtype=\"auto\",\n",
    "    trust_remote_code=True,\n",
    ")"
   ]
  },
  {
   "cell_type": "code",
   "execution_count": 4,
   "metadata": {},
   "outputs": [],
   "source": [
    "import torch\n",
    "chat = [\n",
    "    {\n",
    "        \"role\":\"user\",\n",
    "        \"content\":\"How ai shake hands with quantum computing\",\n",
    "    }\n",
    "]"
   ]
  },
  {
   "cell_type": "code",
   "execution_count": 7,
   "metadata": {},
   "outputs": [],
   "source": [
    "import torch \n",
    "chat = [\n",
    "    {\n",
    "        \"role\":\"user\",\n",
    "        \"content\":\"Who is the winner of the last FIFA world cup?\",\n",
    "    }\n",
    "]"
   ]
  },
  {
   "cell_type": "code",
   "execution_count": 8,
   "metadata": {},
   "outputs": [
    {
     "data": {
      "text/plain": [
       "tensor([[    1, 32010, 29871,    13, 22110,   338,   278, 19576,   310,   278,\n",
       "          1833, 21581,  3186, 18002, 29973, 32007, 29871,    13, 32001, 29871,\n",
       "            13]])"
      ]
     },
     "execution_count": 8,
     "metadata": {},
     "output_type": "execute_result"
    }
   ],
   "source": [
    "prompt = tokenizer.apply_chat_template(chat, tokenize = False, add_generation_prompt = True)\n",
    "\n",
    "token_ids = tokenizer.encode(prompt, add_special_tokens=False, return_tensors=\"pt\")\n",
    "\n",
    "token_ids"
   ]
  },
  {
   "cell_type": "code",
   "execution_count": 9,
   "metadata": {},
   "outputs": [
    {
     "name": "stderr",
     "output_type": "stream",
     "text": [
      "You are not running the flash-attention implementation, expect numerical differences.\n"
     ]
    },
    {
     "data": {
      "text/plain": [
       "'The winner of the most recent FIFA World Cup, which was in 2018, is France. They defeated Croatia in the final game, capturing their first World Cup title.'"
      ]
     },
     "execution_count": 9,
     "metadata": {},
     "output_type": "execute_result"
    }
   ],
   "source": [
    "with torch.no_grad():\n",
    "  output_ids = model.generate(\n",
    "      token_ids.to(model.device),\n",
    "      do_sample = True,\n",
    "      temperature = 0.7,\n",
    "      max_new_tokens = 512\n",
    "  )\n",
    "\n",
    "output = tokenizer.decode(output_ids.tolist()[0][token_ids.size(1):], skip_special_tokens=True)\n",
    "\n",
    "output"
   ]
  }
 ],
 "metadata": {
  "kernelspec": {
   "display_name": "Python 3",
   "language": "python",
   "name": "python3"
  },
  "language_info": {
   "codemirror_mode": {
    "name": "ipython",
    "version": 3
   },
   "file_extension": ".py",
   "mimetype": "text/x-python",
   "name": "python",
   "nbconvert_exporter": "python",
   "pygments_lexer": "ipython3",
   "version": "3.11.8"
  }
 },
 "nbformat": 4,
 "nbformat_minor": 2
}
