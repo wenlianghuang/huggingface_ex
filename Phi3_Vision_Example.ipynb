{
 "cells": [
  {
   "cell_type": "code",
   "execution_count": null,
   "metadata": {},
   "outputs": [],
   "source": [
    "from PIL import Image\n",
    "import requests \n",
    "import torch\n",
    "from transformers import AutoModelForCausalLM\n",
    "from transformers import AutoProcessor"
   ]
  },
  {
   "cell_type": "code",
   "execution_count": null,
   "metadata": {},
   "outputs": [],
   "source": [
    "model_id = 'microsoft/Phi-3-vision-128k-instruct'\n",
    "kwargs = {}\n",
    "kwargs['torch_dtype'] = torch.float16\n",
    "processor = AutoProcessor.from_pretrained(model_id,trust_remote_code=True)\n",
    "model = AutoModelForCausalLM.from_pretrained(model_id,trust_remote_code=True)\n",
    "user_prompt = '<|user|>\\n'\n",
    "assistant_prompt = '<|assistant|>\\n'\n",
    "prompt_suffix = '<|end|>'"
   ]
  },
  {
   "cell_type": "code",
   "execution_count": null,
   "metadata": {},
   "outputs": [],
   "source": [
    "##########text-only#####\n",
    "prompt = f'{user_prompt}what is the answer for 1+1'"
   ]
  },
  {
   "cell_type": "code",
   "execution_count": null,
   "metadata": {},
   "outputs": [],
   "source": [
    "print(f\">>> Prompt\\n{prompt}\")"
   ]
  },
  {
   "cell_type": "code",
   "execution_count": null,
   "metadata": {},
   "outputs": [],
   "source": [
    "inputs = processor(prompt, images=None, return_tensors=\"pt\").to(\"cuda:0\")\n",
    "generate_ids = model.generate(**inputs, \n",
    "                              max_new_tokens=1000,\n",
    "                              eos_token_id=processor.tokenizer.eos_token_id,\n",
    "                              )\n",
    "generate_ids = generate_ids[:, inputs['input_ids'].shape[1]:]\n",
    "response = processor.batch_decode(generate_ids, \n",
    "                                  skip_special_tokens=True, \n",
    "                                  clean_up_tokenization_spaces=False)[0]\n",
    "print(f'>>> Response\\n{response}')\n",
    "\n"
   ]
  }
 ],
 "metadata": {
  "kernelspec": {
   "display_name": "Python 3",
   "language": "python",
   "name": "python3"
  },
  "language_info": {
   "codemirror_mode": {
    "name": "ipython",
    "version": 3
   },
   "file_extension": ".py",
   "mimetype": "text/x-python",
   "name": "python",
   "nbconvert_exporter": "python",
   "pygments_lexer": "ipython3",
   "version": "3.11.9"
  }
 },
 "nbformat": 4,
 "nbformat_minor": 2
}
