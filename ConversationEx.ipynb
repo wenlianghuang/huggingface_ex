{
 "cells": [
  {
   "cell_type": "code",
   "execution_count": 1,
   "metadata": {},
   "outputs": [
    {
     "name": "stdout",
     "output_type": "stream",
     "text": [
      "Requirement already satisfied: transformers in c:\\users\\wen-liang\\appdata\\local\\programs\\python\\python312\\lib\\site-packages (4.39.2)\n",
      "Requirement already satisfied: filelock in c:\\users\\wen-liang\\appdata\\local\\programs\\python\\python312\\lib\\site-packages (from transformers) (3.13.3)\n",
      "Requirement already satisfied: huggingface-hub<1.0,>=0.19.3 in c:\\users\\wen-liang\\appdata\\local\\programs\\python\\python312\\lib\\site-packages (from transformers) (0.22.2)\n",
      "Requirement already satisfied: numpy>=1.17 in c:\\users\\wen-liang\\appdata\\local\\programs\\python\\python312\\lib\\site-packages (from transformers) (1.26.4)\n",
      "Requirement already satisfied: packaging>=20.0 in c:\\users\\wen-liang\\appdata\\local\\programs\\python\\python312\\lib\\site-packages (from transformers) (24.0)\n",
      "Requirement already satisfied: pyyaml>=5.1 in c:\\users\\wen-liang\\appdata\\local\\programs\\python\\python312\\lib\\site-packages (from transformers) (6.0.1)\n",
      "Requirement already satisfied: regex!=2019.12.17 in c:\\users\\wen-liang\\appdata\\local\\programs\\python\\python312\\lib\\site-packages (from transformers) (2023.12.25)\n",
      "Requirement already satisfied: requests in c:\\users\\wen-liang\\appdata\\local\\programs\\python\\python312\\lib\\site-packages (from transformers) (2.31.0)\n",
      "Requirement already satisfied: tokenizers<0.19,>=0.14 in c:\\users\\wen-liang\\appdata\\local\\programs\\python\\python312\\lib\\site-packages (from transformers) (0.15.2)\n",
      "Requirement already satisfied: safetensors>=0.4.1 in c:\\users\\wen-liang\\appdata\\local\\programs\\python\\python312\\lib\\site-packages (from transformers) (0.4.2)\n",
      "Requirement already satisfied: tqdm>=4.27 in c:\\users\\wen-liang\\appdata\\local\\programs\\python\\python312\\lib\\site-packages (from transformers) (4.66.2)\n",
      "Requirement already satisfied: fsspec>=2023.5.0 in c:\\users\\wen-liang\\appdata\\local\\programs\\python\\python312\\lib\\site-packages (from huggingface-hub<1.0,>=0.19.3->transformers) (2024.3.1)\n",
      "Requirement already satisfied: typing-extensions>=3.7.4.3 in c:\\users\\wen-liang\\appdata\\local\\programs\\python\\python312\\lib\\site-packages (from huggingface-hub<1.0,>=0.19.3->transformers) (4.10.0)\n",
      "Requirement already satisfied: colorama in c:\\users\\wen-liang\\appdata\\local\\programs\\python\\python312\\lib\\site-packages (from tqdm>=4.27->transformers) (0.4.6)\n",
      "Requirement already satisfied: charset-normalizer<4,>=2 in c:\\users\\wen-liang\\appdata\\local\\programs\\python\\python312\\lib\\site-packages (from requests->transformers) (3.3.2)\n",
      "Requirement already satisfied: idna<4,>=2.5 in c:\\users\\wen-liang\\appdata\\local\\programs\\python\\python312\\lib\\site-packages (from requests->transformers) (3.6)\n",
      "Requirement already satisfied: urllib3<3,>=1.21.1 in c:\\users\\wen-liang\\appdata\\local\\programs\\python\\python312\\lib\\site-packages (from requests->transformers) (2.2.1)\n",
      "Requirement already satisfied: certifi>=2017.4.17 in c:\\users\\wen-liang\\appdata\\local\\programs\\python\\python312\\lib\\site-packages (from requests->transformers) (2024.2.2)\n"
     ]
    }
   ],
   "source": [
    "!pip install transformers"
   ]
  },
  {
   "cell_type": "code",
   "execution_count": 2,
   "metadata": {},
   "outputs": [
    {
     "name": "stdout",
     "output_type": "stream",
     "text": [
      "Collecting gradio\n",
      "  Downloading gradio-4.26.0-py3-none-any.whl.metadata (15 kB)\n",
      "Collecting aiofiles<24.0,>=22.0 (from gradio)\n",
      "  Downloading aiofiles-23.2.1-py3-none-any.whl.metadata (9.7 kB)\n",
      "Collecting altair<6.0,>=4.2.0 (from gradio)\n",
      "  Downloading altair-5.3.0-py3-none-any.whl.metadata (9.2 kB)\n",
      "Collecting fastapi (from gradio)\n",
      "  Downloading fastapi-0.110.1-py3-none-any.whl.metadata (24 kB)\n",
      "Collecting ffmpy (from gradio)\n",
      "  Downloading ffmpy-0.3.2.tar.gz (5.5 kB)\n",
      "  Installing build dependencies: started\n",
      "  Installing build dependencies: finished with status 'done'\n",
      "  Getting requirements to build wheel: started\n",
      "  Getting requirements to build wheel: finished with status 'done'\n",
      "  Installing backend dependencies: started\n",
      "  Installing backend dependencies: finished with status 'done'\n",
      "  Preparing metadata (pyproject.toml): started\n",
      "  Preparing metadata (pyproject.toml): finished with status 'done'\n",
      "Collecting gradio-client==0.15.1 (from gradio)\n",
      "  Downloading gradio_client-0.15.1-py3-none-any.whl.metadata (7.1 kB)\n",
      "Collecting httpx>=0.24.1 (from gradio)\n",
      "  Downloading httpx-0.27.0-py3-none-any.whl.metadata (7.2 kB)\n",
      "Requirement already satisfied: huggingface-hub>=0.19.3 in c:\\users\\wen-liang\\appdata\\local\\programs\\python\\python312\\lib\\site-packages (from gradio) (0.22.2)\n",
      "Collecting importlib-resources<7.0,>=1.3 (from gradio)\n",
      "  Downloading importlib_resources-6.4.0-py3-none-any.whl.metadata (3.9 kB)\n",
      "Requirement already satisfied: jinja2<4.0 in c:\\users\\wen-liang\\appdata\\local\\programs\\python\\python312\\lib\\site-packages (from gradio) (3.1.3)\n",
      "Requirement already satisfied: markupsafe~=2.0 in c:\\users\\wen-liang\\appdata\\local\\programs\\python\\python312\\lib\\site-packages (from gradio) (2.1.5)\n",
      "Collecting matplotlib~=3.0 (from gradio)\n",
      "  Downloading matplotlib-3.8.4-cp312-cp312-win_amd64.whl.metadata (5.9 kB)\n",
      "Requirement already satisfied: numpy~=1.0 in c:\\users\\wen-liang\\appdata\\local\\programs\\python\\python312\\lib\\site-packages (from gradio) (1.26.4)\n",
      "Collecting orjson~=3.0 (from gradio)\n",
      "  Downloading orjson-3.10.0-cp312-none-win_amd64.whl.metadata (50 kB)\n",
      "     ---------------------------------------- 0.0/50.7 kB ? eta -:--:--\n",
      "     -------- ------------------------------- 10.2/50.7 kB ? eta -:--:--\n",
      "     -------------------------------------- 50.7/50.7 kB 861.4 kB/s eta 0:00:00\n",
      "Requirement already satisfied: packaging in c:\\users\\wen-liang\\appdata\\local\\programs\\python\\python312\\lib\\site-packages (from gradio) (24.0)\n",
      "Requirement already satisfied: pandas<3.0,>=1.0 in c:\\users\\wen-liang\\appdata\\local\\programs\\python\\python312\\lib\\site-packages (from gradio) (2.2.1)\n",
      "Requirement already satisfied: pillow<11.0,>=8.0 in c:\\users\\wen-liang\\appdata\\local\\programs\\python\\python312\\lib\\site-packages (from gradio) (10.2.0)\n",
      "Requirement already satisfied: pydantic>=2.0 in c:\\users\\wen-liang\\appdata\\local\\programs\\python\\python312\\lib\\site-packages (from gradio) (2.6.4)\n",
      "Collecting pydub (from gradio)\n",
      "  Downloading pydub-0.25.1-py2.py3-none-any.whl.metadata (1.4 kB)\n",
      "Collecting python-multipart>=0.0.9 (from gradio)\n",
      "  Downloading python_multipart-0.0.9-py3-none-any.whl.metadata (2.5 kB)\n",
      "Requirement already satisfied: pyyaml<7.0,>=5.0 in c:\\users\\wen-liang\\appdata\\local\\programs\\python\\python312\\lib\\site-packages (from gradio) (6.0.1)\n",
      "Collecting ruff>=0.2.2 (from gradio)\n",
      "  Downloading ruff-0.3.7-py3-none-win_amd64.whl.metadata (24 kB)\n",
      "Collecting semantic-version~=2.0 (from gradio)\n",
      "  Downloading semantic_version-2.10.0-py2.py3-none-any.whl.metadata (9.7 kB)\n",
      "Collecting tomlkit==0.12.0 (from gradio)\n",
      "  Downloading tomlkit-0.12.0-py3-none-any.whl.metadata (2.7 kB)\n",
      "Requirement already satisfied: typer<1.0,>=0.9 in c:\\users\\wen-liang\\appdata\\local\\programs\\python\\python312\\lib\\site-packages (from typer[all]<1.0,>=0.9; sys_platform != \"emscripten\"->gradio) (0.9.4)\n",
      "Requirement already satisfied: typing-extensions~=4.0 in c:\\users\\wen-liang\\appdata\\local\\programs\\python\\python312\\lib\\site-packages (from gradio) (4.10.0)\n",
      "Collecting uvicorn>=0.14.0 (from gradio)\n",
      "  Downloading uvicorn-0.29.0-py3-none-any.whl.metadata (6.3 kB)\n",
      "Requirement already satisfied: fsspec in c:\\users\\wen-liang\\appdata\\local\\programs\\python\\python312\\lib\\site-packages (from gradio-client==0.15.1->gradio) (2024.3.1)\n",
      "Collecting websockets<12.0,>=10.0 (from gradio-client==0.15.1->gradio)\n",
      "  Downloading websockets-11.0.3-py3-none-any.whl.metadata (6.6 kB)\n",
      "Requirement already satisfied: jsonschema>=3.0 in c:\\users\\wen-liang\\appdata\\local\\programs\\python\\python312\\lib\\site-packages (from altair<6.0,>=4.2.0->gradio) (4.21.1)\n",
      "Collecting toolz (from altair<6.0,>=4.2.0->gradio)\n",
      "  Downloading toolz-0.12.1-py3-none-any.whl.metadata (5.1 kB)\n",
      "Collecting anyio (from httpx>=0.24.1->gradio)\n",
      "  Downloading anyio-4.3.0-py3-none-any.whl.metadata (4.6 kB)\n",
      "Requirement already satisfied: certifi in c:\\users\\wen-liang\\appdata\\local\\programs\\python\\python312\\lib\\site-packages (from httpx>=0.24.1->gradio) (2024.2.2)\n",
      "Collecting httpcore==1.* (from httpx>=0.24.1->gradio)\n",
      "  Downloading httpcore-1.0.5-py3-none-any.whl.metadata (20 kB)\n",
      "Requirement already satisfied: idna in c:\\users\\wen-liang\\appdata\\local\\programs\\python\\python312\\lib\\site-packages (from httpx>=0.24.1->gradio) (3.6)\n",
      "Collecting sniffio (from httpx>=0.24.1->gradio)\n",
      "  Downloading sniffio-1.3.1-py3-none-any.whl.metadata (3.9 kB)\n",
      "Collecting h11<0.15,>=0.13 (from httpcore==1.*->httpx>=0.24.1->gradio)\n",
      "  Downloading h11-0.14.0-py3-none-any.whl.metadata (8.2 kB)\n",
      "Requirement already satisfied: filelock in c:\\users\\wen-liang\\appdata\\local\\programs\\python\\python312\\lib\\site-packages (from huggingface-hub>=0.19.3->gradio) (3.13.3)\n",
      "Requirement already satisfied: requests in c:\\users\\wen-liang\\appdata\\local\\programs\\python\\python312\\lib\\site-packages (from huggingface-hub>=0.19.3->gradio) (2.31.0)\n",
      "Requirement already satisfied: tqdm>=4.42.1 in c:\\users\\wen-liang\\appdata\\local\\programs\\python\\python312\\lib\\site-packages (from huggingface-hub>=0.19.3->gradio) (4.66.2)\n",
      "Collecting contourpy>=1.0.1 (from matplotlib~=3.0->gradio)\n",
      "  Downloading contourpy-1.2.1-cp312-cp312-win_amd64.whl.metadata (5.8 kB)\n",
      "Collecting cycler>=0.10 (from matplotlib~=3.0->gradio)\n",
      "  Downloading cycler-0.12.1-py3-none-any.whl.metadata (3.8 kB)\n",
      "Collecting fonttools>=4.22.0 (from matplotlib~=3.0->gradio)\n",
      "  Downloading fonttools-4.51.0-cp312-cp312-win_amd64.whl.metadata (162 kB)\n",
      "     ---------------------------------------- 0.0/162.8 kB ? eta -:--:--\n",
      "     -- ------------------------------------- 10.2/162.8 kB ? eta -:--:--\n",
      "     --------- --------------------------- 41.0/162.8 kB 487.6 kB/s eta 0:00:01\n",
      "     ---------------- -------------------- 71.7/162.8 kB 563.7 kB/s eta 0:00:01\n",
      "     ------------------------ ----------- 112.6/162.8 kB 656.4 kB/s eta 0:00:01\n",
      "     ------------------------------- ---- 143.4/162.8 kB 655.8 kB/s eta 0:00:01\n",
      "     ------------------------------------ 162.8/162.8 kB 651.8 kB/s eta 0:00:00\n",
      "Collecting kiwisolver>=1.3.1 (from matplotlib~=3.0->gradio)\n",
      "  Downloading kiwisolver-1.4.5-cp312-cp312-win_amd64.whl.metadata (6.5 kB)\n",
      "Collecting pyparsing>=2.3.1 (from matplotlib~=3.0->gradio)\n",
      "  Downloading pyparsing-3.1.2-py3-none-any.whl.metadata (5.1 kB)\n",
      "Requirement already satisfied: python-dateutil>=2.7 in c:\\users\\wen-liang\\appdata\\local\\programs\\python\\python312\\lib\\site-packages (from matplotlib~=3.0->gradio) (2.9.0.post0)\n",
      "Requirement already satisfied: pytz>=2020.1 in c:\\users\\wen-liang\\appdata\\local\\programs\\python\\python312\\lib\\site-packages (from pandas<3.0,>=1.0->gradio) (2024.1)\n",
      "Requirement already satisfied: tzdata>=2022.7 in c:\\users\\wen-liang\\appdata\\local\\programs\\python\\python312\\lib\\site-packages (from pandas<3.0,>=1.0->gradio) (2024.1)\n",
      "Requirement already satisfied: annotated-types>=0.4.0 in c:\\users\\wen-liang\\appdata\\local\\programs\\python\\python312\\lib\\site-packages (from pydantic>=2.0->gradio) (0.6.0)\n",
      "Requirement already satisfied: pydantic-core==2.16.3 in c:\\users\\wen-liang\\appdata\\local\\programs\\python\\python312\\lib\\site-packages (from pydantic>=2.0->gradio) (2.16.3)\n",
      "Requirement already satisfied: click<9.0.0,>=7.1.1 in c:\\users\\wen-liang\\appdata\\local\\programs\\python\\python312\\lib\\site-packages (from typer<1.0,>=0.9->typer[all]<1.0,>=0.9; sys_platform != \"emscripten\"->gradio) (8.1.7)\n",
      "Requirement already satisfied: colorama<0.5.0,>=0.4.3 in c:\\users\\wen-liang\\appdata\\local\\programs\\python\\python312\\lib\\site-packages (from typer[all]<1.0,>=0.9; sys_platform != \"emscripten\"->gradio) (0.4.6)\n",
      "Collecting shellingham<2.0.0,>=1.3.0 (from typer[all]<1.0,>=0.9; sys_platform != \"emscripten\"->gradio)\n",
      "  Downloading shellingham-1.5.4-py2.py3-none-any.whl.metadata (3.5 kB)\n",
      "Collecting rich<14.0.0,>=10.11.0 (from typer[all]<1.0,>=0.9; sys_platform != \"emscripten\"->gradio)\n",
      "  Downloading rich-13.7.1-py3-none-any.whl.metadata (18 kB)\n",
      "Collecting starlette<0.38.0,>=0.37.2 (from fastapi->gradio)\n",
      "  Downloading starlette-0.37.2-py3-none-any.whl.metadata (5.9 kB)\n",
      "Requirement already satisfied: attrs>=22.2.0 in c:\\users\\wen-liang\\appdata\\local\\programs\\python\\python312\\lib\\site-packages (from jsonschema>=3.0->altair<6.0,>=4.2.0->gradio) (23.2.0)\n",
      "Requirement already satisfied: jsonschema-specifications>=2023.03.6 in c:\\users\\wen-liang\\appdata\\local\\programs\\python\\python312\\lib\\site-packages (from jsonschema>=3.0->altair<6.0,>=4.2.0->gradio) (2023.12.1)\n",
      "Requirement already satisfied: referencing>=0.28.4 in c:\\users\\wen-liang\\appdata\\local\\programs\\python\\python312\\lib\\site-packages (from jsonschema>=3.0->altair<6.0,>=4.2.0->gradio) (0.34.0)\n",
      "Requirement already satisfied: rpds-py>=0.7.1 in c:\\users\\wen-liang\\appdata\\local\\programs\\python\\python312\\lib\\site-packages (from jsonschema>=3.0->altair<6.0,>=4.2.0->gradio) (0.18.0)\n",
      "Requirement already satisfied: six>=1.5 in c:\\users\\wen-liang\\appdata\\local\\programs\\python\\python312\\lib\\site-packages (from python-dateutil>=2.7->matplotlib~=3.0->gradio) (1.16.0)\n",
      "Collecting markdown-it-py>=2.2.0 (from rich<14.0.0,>=10.11.0->typer[all]<1.0,>=0.9; sys_platform != \"emscripten\"->gradio)\n",
      "  Downloading markdown_it_py-3.0.0-py3-none-any.whl.metadata (6.9 kB)\n",
      "Requirement already satisfied: pygments<3.0.0,>=2.13.0 in c:\\users\\wen-liang\\appdata\\roaming\\python\\python312\\site-packages (from rich<14.0.0,>=10.11.0->typer[all]<1.0,>=0.9; sys_platform != \"emscripten\"->gradio) (2.17.2)\n",
      "Requirement already satisfied: charset-normalizer<4,>=2 in c:\\users\\wen-liang\\appdata\\local\\programs\\python\\python312\\lib\\site-packages (from requests->huggingface-hub>=0.19.3->gradio) (3.3.2)\n",
      "Requirement already satisfied: urllib3<3,>=1.21.1 in c:\\users\\wen-liang\\appdata\\local\\programs\\python\\python312\\lib\\site-packages (from requests->huggingface-hub>=0.19.3->gradio) (2.2.1)\n",
      "Collecting mdurl~=0.1 (from markdown-it-py>=2.2.0->rich<14.0.0,>=10.11.0->typer[all]<1.0,>=0.9; sys_platform != \"emscripten\"->gradio)\n",
      "  Downloading mdurl-0.1.2-py3-none-any.whl.metadata (1.6 kB)\n",
      "Downloading gradio-4.26.0-py3-none-any.whl (17.1 MB)\n",
      "   ---------------------------------------- 0.0/17.1 MB ? eta -:--:--\n",
      "   ---------------------------------------- 0.0/17.1 MB ? eta -:--:--\n",
      "   ---------------------------------------- 0.0/17.1 MB 960.0 kB/s eta 0:00:18\n",
      "   ---------------------------------------- 0.1/17.1 MB 812.7 kB/s eta 0:00:21\n",
      "   ---------------------------------------- 0.1/17.1 MB 655.4 kB/s eta 0:00:26\n",
      "   ---------------------------------------- 0.1/17.1 MB 652.2 kB/s eta 0:00:27\n",
      "   ---------------------------------------- 0.1/17.1 MB 655.8 kB/s eta 0:00:26\n",
      "   ---------------------------------------- 0.2/17.1 MB 615.9 kB/s eta 0:00:28\n",
      "   ---------------------------------------- 0.2/17.1 MB 620.6 kB/s eta 0:00:28\n",
      "    --------------------------------------- 0.2/17.1 MB 625.1 kB/s eta 0:00:28\n",
      "    --------------------------------------- 0.3/17.1 MB 603.8 kB/s eta 0:00:28\n",
      "    --------------------------------------- 0.3/17.1 MB 610.3 kB/s eta 0:00:28\n",
      "    --------------------------------------- 0.3/17.1 MB 614.4 kB/s eta 0:00:28\n",
      "    --------------------------------------- 0.4/17.1 MB 636.5 kB/s eta 0:00:27\n",
      "    --------------------------------------- 0.4/17.1 MB 637.8 kB/s eta 0:00:27\n",
      "    --------------------------------------- 0.4/17.1 MB 639.0 kB/s eta 0:00:27\n",
      "   - -------------------------------------- 0.5/17.1 MB 640.0 kB/s eta 0:00:27\n",
      "   - -------------------------------------- 0.5/17.1 MB 640.9 kB/s eta 0:00:26\n",
      "   - -------------------------------------- 0.5/17.1 MB 668.4 kB/s eta 0:00:25\n",
      "   - -------------------------------------- 0.6/17.1 MB 667.6 kB/s eta 0:00:25\n",
      "   - -------------------------------------- 0.6/17.1 MB 678.8 kB/s eta 0:00:25\n",
      "   - -------------------------------------- 0.6/17.1 MB 688.7 kB/s eta 0:00:24\n",
      "   - -------------------------------------- 0.7/17.1 MB 687.7 kB/s eta 0:00:24\n",
      "   - -------------------------------------- 0.7/17.1 MB 706.6 kB/s eta 0:00:24\n",
      "   - -------------------------------------- 0.7/17.1 MB 704.2 kB/s eta 0:00:24\n",
      "   - -------------------------------------- 0.8/17.1 MB 702.0 kB/s eta 0:00:24\n",
      "   - -------------------------------------- 0.8/17.1 MB 700.0 kB/s eta 0:00:24\n",
      "   -- ------------------------------------- 0.9/17.1 MB 715.4 kB/s eta 0:00:23\n",
      "   -- ------------------------------------- 0.9/17.1 MB 720.9 kB/s eta 0:00:23\n",
      "   -- ------------------------------------- 0.9/17.1 MB 726.9 kB/s eta 0:00:23\n",
      "   -- ------------------------------------- 1.0/17.1 MB 740.2 kB/s eta 0:00:22\n",
      "   -- ------------------------------------- 1.0/17.1 MB 752.2 kB/s eta 0:00:22\n",
      "   -- ------------------------------------- 1.1/17.1 MB 763.3 kB/s eta 0:00:22\n",
      "   -- ------------------------------------- 1.1/17.1 MB 758.5 kB/s eta 0:00:22\n",
      "   -- ------------------------------------- 1.2/17.1 MB 776.8 kB/s eta 0:00:21\n",
      "   -- ------------------------------------- 1.2/17.1 MB 786.2 kB/s eta 0:00:21\n",
      "   --- ------------------------------------ 1.3/17.1 MB 795.0 kB/s eta 0:00:20\n",
      "   --- ------------------------------------ 1.3/17.1 MB 803.4 kB/s eta 0:00:20\n",
      "   --- ------------------------------------ 1.4/17.1 MB 812.9 kB/s eta 0:00:20\n",
      "   --- ------------------------------------ 1.4/17.1 MB 820.4 kB/s eta 0:00:20\n",
      "   --- ------------------------------------ 1.5/17.1 MB 832.0 kB/s eta 0:00:19\n",
      "   --- ------------------------------------ 1.6/17.1 MB 844.1 kB/s eta 0:00:19\n",
      "   --- ------------------------------------ 1.6/17.1 MB 844.8 kB/s eta 0:00:19\n",
      "   --- ------------------------------------ 1.7/17.1 MB 861.3 kB/s eta 0:00:18\n",
      "   ---- ----------------------------------- 1.7/17.1 MB 866.7 kB/s eta 0:00:18\n",
      "   ---- ----------------------------------- 1.8/17.1 MB 876.9 kB/s eta 0:00:18\n",
      "   ---- ----------------------------------- 1.8/17.1 MB 882.1 kB/s eta 0:00:18\n",
      "   ---- ----------------------------------- 1.9/17.1 MB 891.5 kB/s eta 0:00:18\n",
      "   ---- ----------------------------------- 2.0/17.1 MB 895.8 kB/s eta 0:00:17\n",
      "   ---- ----------------------------------- 2.0/17.1 MB 913.7 kB/s eta 0:00:17\n",
      "   ---- ----------------------------------- 2.1/17.1 MB 914.8 kB/s eta 0:00:17\n",
      "   ---- ----------------------------------- 2.1/17.1 MB 920.8 kB/s eta 0:00:17\n",
      "   ----- ---------------------------------- 2.2/17.1 MB 928.5 kB/s eta 0:00:17\n",
      "   ----- ---------------------------------- 2.3/17.1 MB 935.9 kB/s eta 0:00:16\n",
      "   ----- ---------------------------------- 2.3/17.1 MB 947.6 kB/s eta 0:00:16\n",
      "   ----- ---------------------------------- 2.4/17.1 MB 960.1 kB/s eta 0:00:16\n",
      "   ----- ---------------------------------- 2.5/17.1 MB 970.6 kB/s eta 0:00:16\n",
      "   ----- ---------------------------------- 2.5/17.1 MB 979.0 kB/s eta 0:00:15\n",
      "   ------ --------------------------------- 2.6/17.1 MB 984.8 kB/s eta 0:00:15\n",
      "   ------ --------------------------------- 2.7/17.1 MB 996.4 kB/s eta 0:00:15\n",
      "   ------ --------------------------------- 2.8/17.1 MB 1.0 MB/s eta 0:00:15\n",
      "   ------ --------------------------------- 2.8/17.1 MB 1.0 MB/s eta 0:00:15\n",
      "   ------ --------------------------------- 2.9/17.1 MB 1.0 MB/s eta 0:00:15\n",
      "   ------ --------------------------------- 2.9/17.1 MB 1.0 MB/s eta 0:00:14\n",
      "   ------ --------------------------------- 3.0/17.1 MB 1.0 MB/s eta 0:00:14\n",
      "   ------- -------------------------------- 3.0/17.1 MB 1.0 MB/s eta 0:00:14\n",
      "   ------- -------------------------------- 3.1/17.1 MB 1.0 MB/s eta 0:00:14\n",
      "   ------- -------------------------------- 3.1/17.1 MB 1.0 MB/s eta 0:00:14\n",
      "   ------- -------------------------------- 3.2/17.1 MB 1.0 MB/s eta 0:00:14\n",
      "   ------- -------------------------------- 3.3/17.1 MB 1.0 MB/s eta 0:00:14\n",
      "   ------- -------------------------------- 3.3/17.1 MB 1.0 MB/s eta 0:00:14\n",
      "   ------- -------------------------------- 3.4/17.1 MB 1.0 MB/s eta 0:00:14\n",
      "   -------- ------------------------------- 3.4/17.1 MB 1.0 MB/s eta 0:00:14\n",
      "   -------- ------------------------------- 3.5/17.1 MB 1.0 MB/s eta 0:00:14\n",
      "   -------- ------------------------------- 3.6/17.1 MB 1.0 MB/s eta 0:00:13\n",
      "   -------- ------------------------------- 3.6/17.1 MB 1.0 MB/s eta 0:00:13\n",
      "   -------- ------------------------------- 3.7/17.1 MB 1.1 MB/s eta 0:00:13\n",
      "   -------- ------------------------------- 3.7/17.1 MB 1.1 MB/s eta 0:00:13\n",
      "   -------- ------------------------------- 3.8/17.1 MB 1.1 MB/s eta 0:00:13\n",
      "   --------- ------------------------------ 3.9/17.1 MB 1.1 MB/s eta 0:00:13\n",
      "   --------- ------------------------------ 3.9/17.1 MB 1.1 MB/s eta 0:00:13\n",
      "   --------- ------------------------------ 4.0/17.1 MB 1.1 MB/s eta 0:00:13\n",
      "   --------- ------------------------------ 4.1/17.1 MB 1.1 MB/s eta 0:00:13\n",
      "   --------- ------------------------------ 4.2/17.1 MB 1.1 MB/s eta 0:00:12\n",
      "   --------- ------------------------------ 4.2/17.1 MB 1.1 MB/s eta 0:00:12\n",
      "   ---------- ----------------------------- 4.3/17.1 MB 1.1 MB/s eta 0:00:12\n",
      "   ---------- ----------------------------- 4.4/17.1 MB 1.1 MB/s eta 0:00:12\n",
      "   ---------- ----------------------------- 4.4/17.1 MB 1.1 MB/s eta 0:00:12\n",
      "   ---------- ----------------------------- 4.5/17.1 MB 1.1 MB/s eta 0:00:12\n",
      "   ---------- ----------------------------- 4.6/17.1 MB 1.1 MB/s eta 0:00:12\n",
      "   ---------- ----------------------------- 4.7/17.1 MB 1.1 MB/s eta 0:00:12\n",
      "   ----------- ---------------------------- 4.7/17.1 MB 1.1 MB/s eta 0:00:11\n",
      "   ----------- ---------------------------- 4.8/17.1 MB 1.1 MB/s eta 0:00:11\n",
      "   ----------- ---------------------------- 4.9/17.1 MB 1.1 MB/s eta 0:00:11\n",
      "   ----------- ---------------------------- 5.0/17.1 MB 1.1 MB/s eta 0:00:11\n",
      "   ----------- ---------------------------- 5.0/17.1 MB 1.1 MB/s eta 0:00:11\n",
      "   ----------- ---------------------------- 5.1/17.1 MB 1.2 MB/s eta 0:00:11\n",
      "   ------------ --------------------------- 5.2/17.1 MB 1.2 MB/s eta 0:00:11\n",
      "   ------------ --------------------------- 5.3/17.1 MB 1.2 MB/s eta 0:00:11\n",
      "   ------------ --------------------------- 5.3/17.1 MB 1.2 MB/s eta 0:00:11\n",
      "   ------------ --------------------------- 5.4/17.1 MB 1.2 MB/s eta 0:00:10\n",
      "   ------------ --------------------------- 5.5/17.1 MB 1.2 MB/s eta 0:00:10\n",
      "   ------------- -------------------------- 5.6/17.1 MB 1.2 MB/s eta 0:00:10\n",
      "   ------------- -------------------------- 5.7/17.1 MB 1.2 MB/s eta 0:00:10\n",
      "   ------------- -------------------------- 5.8/17.1 MB 1.2 MB/s eta 0:00:10\n",
      "   ------------- -------------------------- 5.9/17.1 MB 1.2 MB/s eta 0:00:10\n",
      "   ------------- -------------------------- 5.9/17.1 MB 1.2 MB/s eta 0:00:10\n",
      "   -------------- ------------------------- 6.0/17.1 MB 1.2 MB/s eta 0:00:10\n",
      "   -------------- ------------------------- 6.1/17.1 MB 1.2 MB/s eta 0:00:09\n",
      "   -------------- ------------------------- 6.2/17.1 MB 1.2 MB/s eta 0:00:09\n",
      "   -------------- ------------------------- 6.3/17.1 MB 1.2 MB/s eta 0:00:09\n",
      "   -------------- ------------------------- 6.4/17.1 MB 1.2 MB/s eta 0:00:09\n",
      "   --------------- ------------------------ 6.5/17.1 MB 1.3 MB/s eta 0:00:09\n",
      "   --------------- ------------------------ 6.6/17.1 MB 1.3 MB/s eta 0:00:09\n",
      "   --------------- ------------------------ 6.7/17.1 MB 1.3 MB/s eta 0:00:09\n",
      "   --------------- ------------------------ 6.8/17.1 MB 1.3 MB/s eta 0:00:09\n",
      "   ---------------- ----------------------- 6.9/17.1 MB 1.3 MB/s eta 0:00:08\n",
      "   ---------------- ----------------------- 7.0/17.1 MB 1.3 MB/s eta 0:00:08\n",
      "   ---------------- ----------------------- 7.1/17.1 MB 1.3 MB/s eta 0:00:08\n",
      "   ---------------- ----------------------- 7.2/17.1 MB 1.3 MB/s eta 0:00:08\n",
      "   ----------------- ---------------------- 7.3/17.1 MB 1.3 MB/s eta 0:00:08\n",
      "   ----------------- ---------------------- 7.3/17.1 MB 1.3 MB/s eta 0:00:08\n",
      "   ----------------- ---------------------- 7.4/17.1 MB 1.3 MB/s eta 0:00:08\n",
      "   ----------------- ---------------------- 7.5/17.1 MB 1.3 MB/s eta 0:00:08\n",
      "   ----------------- ---------------------- 7.6/17.1 MB 1.3 MB/s eta 0:00:08\n",
      "   ------------------ --------------------- 7.7/17.1 MB 1.3 MB/s eta 0:00:07\n",
      "   ------------------ --------------------- 7.8/17.1 MB 1.3 MB/s eta 0:00:07\n",
      "   ------------------ --------------------- 8.0/17.1 MB 1.4 MB/s eta 0:00:07\n",
      "   ------------------ --------------------- 8.0/17.1 MB 1.4 MB/s eta 0:00:07\n",
      "   ------------------- -------------------- 8.2/17.1 MB 1.4 MB/s eta 0:00:07\n",
      "   ------------------- -------------------- 8.3/17.1 MB 1.4 MB/s eta 0:00:07\n",
      "   ------------------- -------------------- 8.4/17.1 MB 1.4 MB/s eta 0:00:07\n",
      "   ------------------- -------------------- 8.5/17.1 MB 1.4 MB/s eta 0:00:07\n",
      "   -------------------- ------------------- 8.6/17.1 MB 1.4 MB/s eta 0:00:07\n",
      "   -------------------- ------------------- 8.7/17.1 MB 1.4 MB/s eta 0:00:07\n",
      "   -------------------- ------------------- 8.8/17.1 MB 1.4 MB/s eta 0:00:06\n",
      "   -------------------- ------------------- 8.9/17.1 MB 1.4 MB/s eta 0:00:06\n",
      "   --------------------- ------------------ 9.0/17.1 MB 1.4 MB/s eta 0:00:06\n",
      "   --------------------- ------------------ 9.2/17.1 MB 1.4 MB/s eta 0:00:06\n",
      "   --------------------- ------------------ 9.3/17.1 MB 1.4 MB/s eta 0:00:06\n",
      "   --------------------- ------------------ 9.4/17.1 MB 1.4 MB/s eta 0:00:06\n",
      "   ---------------------- ----------------- 9.5/17.1 MB 1.5 MB/s eta 0:00:06\n",
      "   ---------------------- ----------------- 9.6/17.1 MB 1.5 MB/s eta 0:00:06\n",
      "   ---------------------- ----------------- 9.7/17.1 MB 1.5 MB/s eta 0:00:06\n",
      "   ----------------------- ---------------- 9.9/17.1 MB 1.5 MB/s eta 0:00:05\n",
      "   ----------------------- ---------------- 10.0/17.1 MB 1.5 MB/s eta 0:00:05\n",
      "   ----------------------- ---------------- 10.1/17.1 MB 1.5 MB/s eta 0:00:05\n",
      "   ----------------------- ---------------- 10.2/17.1 MB 1.5 MB/s eta 0:00:05\n",
      "   ------------------------ --------------- 10.4/17.1 MB 1.5 MB/s eta 0:00:05\n",
      "   ------------------------ --------------- 10.5/17.1 MB 1.6 MB/s eta 0:00:05\n",
      "   ------------------------ --------------- 10.6/17.1 MB 1.6 MB/s eta 0:00:05\n",
      "   ------------------------- -------------- 10.7/17.1 MB 1.6 MB/s eta 0:00:04\n",
      "   ------------------------- -------------- 10.8/17.1 MB 1.7 MB/s eta 0:00:04\n",
      "   ------------------------- -------------- 11.0/17.1 MB 1.7 MB/s eta 0:00:04\n",
      "   ------------------------- -------------- 11.1/17.1 MB 1.7 MB/s eta 0:00:04\n",
      "   ------------------------- -------------- 11.1/17.1 MB 1.7 MB/s eta 0:00:04\n",
      "   -------------------------- ------------- 11.3/17.1 MB 1.8 MB/s eta 0:00:04\n",
      "   -------------------------- ------------- 11.4/17.1 MB 1.8 MB/s eta 0:00:04\n",
      "   -------------------------- ------------- 11.5/17.1 MB 1.8 MB/s eta 0:00:04\n",
      "   --------------------------- ------------ 11.6/17.1 MB 1.8 MB/s eta 0:00:04\n",
      "   --------------------------- ------------ 11.7/17.1 MB 1.8 MB/s eta 0:00:03\n",
      "   --------------------------- ------------ 11.8/17.1 MB 1.8 MB/s eta 0:00:03\n",
      "   --------------------------- ------------ 11.9/17.1 MB 1.8 MB/s eta 0:00:03\n",
      "   ---------------------------- ----------- 12.0/17.1 MB 1.8 MB/s eta 0:00:03\n",
      "   ---------------------------- ----------- 12.1/17.1 MB 1.9 MB/s eta 0:00:03\n",
      "   ---------------------------- ----------- 12.2/17.1 MB 1.9 MB/s eta 0:00:03\n",
      "   ---------------------------- ----------- 12.3/17.1 MB 1.9 MB/s eta 0:00:03\n",
      "   ---------------------------- ----------- 12.4/17.1 MB 1.9 MB/s eta 0:00:03\n",
      "   ----------------------------- ---------- 12.5/17.1 MB 1.9 MB/s eta 0:00:03\n",
      "   ----------------------------- ---------- 12.6/17.1 MB 1.9 MB/s eta 0:00:03\n",
      "   ----------------------------- ---------- 12.7/17.1 MB 1.9 MB/s eta 0:00:03\n",
      "   ----------------------------- ---------- 12.8/17.1 MB 1.9 MB/s eta 0:00:03\n",
      "   ------------------------------ --------- 12.9/17.1 MB 1.9 MB/s eta 0:00:03\n",
      "   ------------------------------ --------- 13.0/17.1 MB 2.0 MB/s eta 0:00:03\n",
      "   ------------------------------ --------- 13.1/17.1 MB 2.0 MB/s eta 0:00:03\n",
      "   ------------------------------ --------- 13.3/17.1 MB 2.0 MB/s eta 0:00:02\n",
      "   ------------------------------- -------- 13.4/17.1 MB 2.0 MB/s eta 0:00:02\n",
      "   ------------------------------- -------- 13.5/17.1 MB 2.0 MB/s eta 0:00:02\n",
      "   ------------------------------- -------- 13.6/17.1 MB 2.0 MB/s eta 0:00:02\n",
      "   ------------------------------- -------- 13.7/17.1 MB 2.0 MB/s eta 0:00:02\n",
      "   -------------------------------- ------- 13.8/17.1 MB 2.1 MB/s eta 0:00:02\n",
      "   -------------------------------- ------- 13.9/17.1 MB 2.1 MB/s eta 0:00:02\n",
      "   -------------------------------- ------- 14.0/17.1 MB 2.1 MB/s eta 0:00:02\n",
      "   -------------------------------- ------- 14.0/17.1 MB 2.1 MB/s eta 0:00:02\n",
      "   --------------------------------- ------ 14.2/17.1 MB 2.1 MB/s eta 0:00:02\n",
      "   --------------------------------- ------ 14.2/17.1 MB 2.1 MB/s eta 0:00:02\n",
      "   --------------------------------- ------ 14.3/17.1 MB 2.1 MB/s eta 0:00:02\n",
      "   --------------------------------- ------ 14.4/17.1 MB 2.1 MB/s eta 0:00:02\n",
      "   --------------------------------- ------ 14.5/17.1 MB 2.1 MB/s eta 0:00:02\n",
      "   ---------------------------------- ----- 14.6/17.1 MB 2.1 MB/s eta 0:00:02\n",
      "   ---------------------------------- ----- 14.7/17.1 MB 2.1 MB/s eta 0:00:02\n",
      "   ---------------------------------- ----- 14.7/17.1 MB 2.1 MB/s eta 0:00:02\n",
      "   ---------------------------------- ----- 14.8/17.1 MB 2.1 MB/s eta 0:00:02\n",
      "   ---------------------------------- ----- 14.9/17.1 MB 2.1 MB/s eta 0:00:02\n",
      "   ----------------------------------- ---- 15.0/17.1 MB 2.1 MB/s eta 0:00:01\n",
      "   ----------------------------------- ---- 15.1/17.1 MB 2.1 MB/s eta 0:00:01\n",
      "   ----------------------------------- ---- 15.2/17.1 MB 2.2 MB/s eta 0:00:01\n",
      "   ----------------------------------- ---- 15.3/17.1 MB 2.2 MB/s eta 0:00:01\n",
      "   ----------------------------------- ---- 15.4/17.1 MB 2.2 MB/s eta 0:00:01\n",
      "   ------------------------------------ --- 15.5/17.1 MB 2.2 MB/s eta 0:00:01\n",
      "   ------------------------------------ --- 15.6/17.1 MB 2.2 MB/s eta 0:00:01\n",
      "   ------------------------------------ --- 15.7/17.1 MB 2.2 MB/s eta 0:00:01\n",
      "   ------------------------------------ --- 15.8/17.1 MB 2.2 MB/s eta 0:00:01\n",
      "   ------------------------------------- -- 15.9/17.1 MB 2.2 MB/s eta 0:00:01\n",
      "   ------------------------------------- -- 15.9/17.1 MB 2.2 MB/s eta 0:00:01\n",
      "   ------------------------------------- -- 16.0/17.1 MB 2.2 MB/s eta 0:00:01\n",
      "   ------------------------------------- -- 16.1/17.1 MB 2.2 MB/s eta 0:00:01\n",
      "   ------------------------------------- -- 16.2/17.1 MB 2.2 MB/s eta 0:00:01\n",
      "   ------------------------------------- -- 16.3/17.1 MB 2.2 MB/s eta 0:00:01\n",
      "   -------------------------------------- - 16.3/17.1 MB 2.2 MB/s eta 0:00:01\n",
      "   -------------------------------------- - 16.3/17.1 MB 2.2 MB/s eta 0:00:01\n",
      "   -------------------------------------- - 16.4/17.1 MB 2.2 MB/s eta 0:00:01\n",
      "   -------------------------------------- - 16.5/17.1 MB 2.1 MB/s eta 0:00:01\n",
      "   -------------------------------------- - 16.5/17.1 MB 2.1 MB/s eta 0:00:01\n",
      "   -------------------------------------- - 16.6/17.1 MB 2.1 MB/s eta 0:00:01\n",
      "   -------------------------------------- - 16.7/17.1 MB 2.1 MB/s eta 0:00:01\n",
      "   -------------------------------------- - 16.7/17.1 MB 2.1 MB/s eta 0:00:01\n",
      "   ---------------------------------------  16.8/17.1 MB 2.1 MB/s eta 0:00:01\n",
      "   ---------------------------------------  16.8/17.1 MB 2.1 MB/s eta 0:00:01\n",
      "   ---------------------------------------  16.9/17.1 MB 2.1 MB/s eta 0:00:01\n",
      "   ---------------------------------------  16.9/17.1 MB 2.1 MB/s eta 0:00:01\n",
      "   ---------------------------------------  17.0/17.1 MB 2.1 MB/s eta 0:00:01\n",
      "   ---------------------------------------  17.1/17.1 MB 2.1 MB/s eta 0:00:01\n",
      "   ---------------------------------------  17.1/17.1 MB 2.1 MB/s eta 0:00:01\n",
      "   ---------------------------------------- 17.1/17.1 MB 2.0 MB/s eta 0:00:00\n",
      "Downloading gradio_client-0.15.1-py3-none-any.whl (313 kB)\n",
      "   ---------------------------------------- 0.0/313.6 kB ? eta -:--:--\n",
      "   ----------- ---------------------------- 92.2/313.6 kB 2.6 MB/s eta 0:00:01\n",
      "   ----------- ---------------------------- 92.2/313.6 kB 2.6 MB/s eta 0:00:01\n",
      "   -------------------------- ------------- 204.8/313.6 kB 1.8 MB/s eta 0:00:01\n",
      "   -------------------------- ------------- 204.8/313.6 kB 1.8 MB/s eta 0:00:01\n",
      "   ------------------------------ --------- 235.5/313.6 kB 1.3 MB/s eta 0:00:01\n",
      "   ---------------------------------------- 313.6/313.6 kB 1.3 MB/s eta 0:00:00\n",
      "Downloading tomlkit-0.12.0-py3-none-any.whl (37 kB)\n",
      "Downloading aiofiles-23.2.1-py3-none-any.whl (15 kB)\n",
      "Downloading altair-5.3.0-py3-none-any.whl (857 kB)\n",
      "   ---------------------------------------- 0.0/857.8 kB ? eta -:--:--\n",
      "   -- ------------------------------------- 61.4/857.8 kB 1.6 MB/s eta 0:00:01\n",
      "   ------ --------------------------------- 143.4/857.8 kB 1.7 MB/s eta 0:00:01\n",
      "   ---------- ----------------------------- 235.5/857.8 kB 1.8 MB/s eta 0:00:01\n",
      "   -------------- ------------------------- 307.2/857.8 kB 1.7 MB/s eta 0:00:01\n",
      "   ---------------- ----------------------- 358.4/857.8 kB 1.6 MB/s eta 0:00:01\n",
      "   -------------------- ------------------- 430.1/857.8 kB 1.6 MB/s eta 0:00:01\n",
      "   ------------------------ --------------- 532.5/857.8 kB 1.7 MB/s eta 0:00:01\n",
      "   ----------------------------- ---------- 624.6/857.8 kB 1.7 MB/s eta 0:00:01\n",
      "   -------------------------------- ------- 706.6/857.8 kB 1.7 MB/s eta 0:00:01\n",
      "   ------------------------------------ --- 788.5/857.8 kB 1.7 MB/s eta 0:00:01\n",
      "   ---------------------------------------- 857.8/857.8 kB 1.7 MB/s eta 0:00:00\n",
      "Downloading httpx-0.27.0-py3-none-any.whl (75 kB)\n",
      "   ---------------------------------------- 0.0/75.6 kB ? eta -:--:--\n",
      "   ---------------------------------------- 75.6/75.6 kB 2.1 MB/s eta 0:00:00\n",
      "Downloading httpcore-1.0.5-py3-none-any.whl (77 kB)\n",
      "   ---------------------------------------- 0.0/77.9 kB ? eta -:--:--\n",
      "   ---------------------------------------- 77.9/77.9 kB 2.2 MB/s eta 0:00:00\n",
      "Downloading importlib_resources-6.4.0-py3-none-any.whl (38 kB)\n",
      "Downloading matplotlib-3.8.4-cp312-cp312-win_amd64.whl (7.7 MB)\n",
      "   ---------------------------------------- 0.0/7.7 MB ? eta -:--:--\n",
      "   ---------------------------------------- 0.1/7.7 MB 1.9 MB/s eta 0:00:04\n",
      "    --------------------------------------- 0.2/7.7 MB 2.1 MB/s eta 0:00:04\n",
      "   - -------------------------------------- 0.3/7.7 MB 2.0 MB/s eta 0:00:04\n",
      "   - -------------------------------------- 0.3/7.7 MB 2.0 MB/s eta 0:00:04\n",
      "   -- ------------------------------------- 0.5/7.7 MB 2.0 MB/s eta 0:00:04\n",
      "   -- ------------------------------------- 0.6/7.7 MB 2.0 MB/s eta 0:00:04\n",
      "   --- ------------------------------------ 0.6/7.7 MB 2.0 MB/s eta 0:00:04\n",
      "   --- ------------------------------------ 0.7/7.7 MB 2.0 MB/s eta 0:00:04\n",
      "   ---- ----------------------------------- 0.8/7.7 MB 2.0 MB/s eta 0:00:04\n",
      "   ---- ----------------------------------- 0.9/7.7 MB 2.1 MB/s eta 0:00:04\n",
      "   ----- ---------------------------------- 1.0/7.7 MB 2.1 MB/s eta 0:00:04\n",
      "   ----- ---------------------------------- 1.1/7.7 MB 2.1 MB/s eta 0:00:04\n",
      "   ------ --------------------------------- 1.2/7.7 MB 2.1 MB/s eta 0:00:04\n",
      "   ------- -------------------------------- 1.4/7.7 MB 2.1 MB/s eta 0:00:04\n",
      "   ------- -------------------------------- 1.5/7.7 MB 2.1 MB/s eta 0:00:03\n",
      "   ------- -------------------------------- 1.5/7.7 MB 2.1 MB/s eta 0:00:03\n",
      "   ------- -------------------------------- 1.5/7.7 MB 1.9 MB/s eta 0:00:04\n",
      "   ------- -------------------------------- 1.5/7.7 MB 1.8 MB/s eta 0:00:04\n",
      "   -------- ------------------------------- 1.6/7.7 MB 1.8 MB/s eta 0:00:04\n",
      "   --------- ------------------------------ 1.7/7.7 MB 1.9 MB/s eta 0:00:04\n",
      "   --------- ------------------------------ 1.8/7.7 MB 1.9 MB/s eta 0:00:04\n",
      "   ---------- ----------------------------- 1.9/7.7 MB 1.9 MB/s eta 0:00:03\n",
      "   ---------- ----------------------------- 2.0/7.7 MB 1.9 MB/s eta 0:00:03\n",
      "   ----------- ---------------------------- 2.2/7.7 MB 1.9 MB/s eta 0:00:03\n",
      "   ----------- ---------------------------- 2.3/7.7 MB 1.9 MB/s eta 0:00:03\n",
      "   ------------ --------------------------- 2.4/7.7 MB 2.0 MB/s eta 0:00:03\n",
      "   ------------ --------------------------- 2.5/7.7 MB 2.0 MB/s eta 0:00:03\n",
      "   ------------- -------------------------- 2.6/7.7 MB 2.0 MB/s eta 0:00:03\n",
      "   -------------- ------------------------- 2.7/7.7 MB 2.0 MB/s eta 0:00:03\n",
      "   -------------- ------------------------- 2.8/7.7 MB 2.0 MB/s eta 0:00:03\n",
      "   --------------- ------------------------ 2.9/7.7 MB 2.0 MB/s eta 0:00:03\n",
      "   --------------- ------------------------ 3.0/7.7 MB 2.0 MB/s eta 0:00:03\n",
      "   ---------------- ----------------------- 3.1/7.7 MB 2.0 MB/s eta 0:00:03\n",
      "   ---------------- ----------------------- 3.2/7.7 MB 2.0 MB/s eta 0:00:03\n",
      "   ----------------- ---------------------- 3.3/7.7 MB 2.1 MB/s eta 0:00:03\n",
      "   ------------------ --------------------- 3.5/7.7 MB 2.1 MB/s eta 0:00:03\n",
      "   ------------------ --------------------- 3.6/7.7 MB 2.1 MB/s eta 0:00:02\n",
      "   ------------------- -------------------- 3.7/7.7 MB 2.1 MB/s eta 0:00:02\n",
      "   ------------------- -------------------- 3.8/7.7 MB 2.1 MB/s eta 0:00:02\n",
      "   -------------------- ------------------- 3.9/7.7 MB 2.1 MB/s eta 0:00:02\n",
      "   --------------------- ------------------ 4.0/7.7 MB 2.1 MB/s eta 0:00:02\n",
      "   --------------------- ------------------ 4.1/7.7 MB 2.1 MB/s eta 0:00:02\n",
      "   ---------------------- ----------------- 4.2/7.7 MB 2.1 MB/s eta 0:00:02\n",
      "   ---------------------- ----------------- 4.4/7.7 MB 2.1 MB/s eta 0:00:02\n",
      "   ----------------------- ---------------- 4.5/7.7 MB 2.1 MB/s eta 0:00:02\n",
      "   ------------------------ --------------- 4.6/7.7 MB 2.2 MB/s eta 0:00:02\n",
      "   ------------------------ --------------- 4.7/7.7 MB 2.2 MB/s eta 0:00:02\n",
      "   ------------------------- -------------- 4.8/7.7 MB 2.2 MB/s eta 0:00:02\n",
      "   ------------------------- -------------- 5.0/7.7 MB 2.2 MB/s eta 0:00:02\n",
      "   -------------------------- ------------- 5.1/7.7 MB 2.2 MB/s eta 0:00:02\n",
      "   --------------------------- ------------ 5.2/7.7 MB 2.2 MB/s eta 0:00:02\n",
      "   --------------------------- ------------ 5.3/7.7 MB 2.2 MB/s eta 0:00:02\n",
      "   ---------------------------- ----------- 5.4/7.7 MB 2.2 MB/s eta 0:00:02\n",
      "   ----------------------------- ---------- 5.6/7.7 MB 2.2 MB/s eta 0:00:01\n",
      "   ----------------------------- ---------- 5.7/7.7 MB 2.2 MB/s eta 0:00:01\n",
      "   ------------------------------ --------- 5.8/7.7 MB 2.2 MB/s eta 0:00:01\n",
      "   ------------------------------- -------- 5.9/7.7 MB 2.2 MB/s eta 0:00:01\n",
      "   ------------------------------- -------- 6.1/7.7 MB 2.2 MB/s eta 0:00:01\n",
      "   -------------------------------- ------- 6.2/7.7 MB 2.3 MB/s eta 0:00:01\n",
      "   --------------------------------- ------ 6.3/7.7 MB 2.3 MB/s eta 0:00:01\n",
      "   --------------------------------- ------ 6.5/7.7 MB 2.3 MB/s eta 0:00:01\n",
      "   ---------------------------------- ----- 6.6/7.7 MB 2.3 MB/s eta 0:00:01\n",
      "   ----------------------------------- ---- 6.7/7.7 MB 2.3 MB/s eta 0:00:01\n",
      "   ----------------------------------- ---- 6.9/7.7 MB 2.3 MB/s eta 0:00:01\n",
      "   ------------------------------------ --- 7.0/7.7 MB 2.3 MB/s eta 0:00:01\n",
      "   ------------------------------------- -- 7.2/7.7 MB 2.3 MB/s eta 0:00:01\n",
      "   -------------------------------------- - 7.3/7.7 MB 2.3 MB/s eta 0:00:01\n",
      "   -------------------------------------- - 7.4/7.7 MB 2.3 MB/s eta 0:00:01\n",
      "   ---------------------------------------  7.6/7.7 MB 2.3 MB/s eta 0:00:01\n",
      "   ---------------------------------------- 7.7/7.7 MB 2.4 MB/s eta 0:00:00\n",
      "Downloading orjson-3.10.0-cp312-none-win_amd64.whl (139 kB)\n",
      "   ---------------------------------------- 0.0/139.4 kB ? eta -:--:--\n",
      "   -------------------------------------- - 133.1/139.4 kB 2.6 MB/s eta 0:00:01\n",
      "   ---------------------------------------- 139.4/139.4 kB 2.7 MB/s eta 0:00:00\n",
      "Downloading python_multipart-0.0.9-py3-none-any.whl (22 kB)\n",
      "Downloading ruff-0.3.7-py3-none-win_amd64.whl (8.7 MB)\n",
      "   ---------------------------------------- 0.0/8.7 MB ? eta -:--:--\n",
      "    --------------------------------------- 0.1/8.7 MB 3.6 MB/s eta 0:00:03\n",
      "   - -------------------------------------- 0.3/8.7 MB 3.2 MB/s eta 0:00:03\n",
      "   - -------------------------------------- 0.4/8.7 MB 3.5 MB/s eta 0:00:03\n",
      "   -- ------------------------------------- 0.5/8.7 MB 3.2 MB/s eta 0:00:03\n",
      "   -- ------------------------------------- 0.6/8.7 MB 3.1 MB/s eta 0:00:03\n",
      "   --- ------------------------------------ 0.8/8.7 MB 3.2 MB/s eta 0:00:03\n",
      "   ---- ----------------------------------- 0.9/8.7 MB 3.1 MB/s eta 0:00:03\n",
      "   ---- ----------------------------------- 1.1/8.7 MB 3.0 MB/s eta 0:00:03\n",
      "   ----- ---------------------------------- 1.2/8.7 MB 3.0 MB/s eta 0:00:03\n",
      "   ------ --------------------------------- 1.4/8.7 MB 3.1 MB/s eta 0:00:03\n",
      "   ------ --------------------------------- 1.5/8.7 MB 3.1 MB/s eta 0:00:03\n",
      "   ------- -------------------------------- 1.6/8.7 MB 3.0 MB/s eta 0:00:03\n",
      "   -------- ------------------------------- 1.8/8.7 MB 3.1 MB/s eta 0:00:03\n",
      "   -------- ------------------------------- 1.9/8.7 MB 3.1 MB/s eta 0:00:03\n",
      "   --------- ------------------------------ 2.1/8.7 MB 3.1 MB/s eta 0:00:03\n",
      "   ---------- ----------------------------- 2.2/8.7 MB 3.1 MB/s eta 0:00:03\n",
      "   ----------- ---------------------------- 2.4/8.7 MB 3.1 MB/s eta 0:00:03\n",
      "   ----------- ---------------------------- 2.5/8.7 MB 3.1 MB/s eta 0:00:02\n",
      "   ------------ --------------------------- 2.7/8.7 MB 3.1 MB/s eta 0:00:02\n",
      "   ------------- -------------------------- 2.8/8.7 MB 3.1 MB/s eta 0:00:02\n",
      "   ------------- -------------------------- 2.9/8.7 MB 3.0 MB/s eta 0:00:02\n",
      "   -------------- ------------------------- 3.1/8.7 MB 3.0 MB/s eta 0:00:02\n",
      "   -------------- ------------------------- 3.1/8.7 MB 3.0 MB/s eta 0:00:02\n",
      "   --------------- ------------------------ 3.3/8.7 MB 3.0 MB/s eta 0:00:02\n",
      "   --------------- ------------------------ 3.4/8.7 MB 3.0 MB/s eta 0:00:02\n",
      "   ---------------- ----------------------- 3.6/8.7 MB 3.0 MB/s eta 0:00:02\n",
      "   ----------------- ---------------------- 3.7/8.7 MB 3.0 MB/s eta 0:00:02\n",
      "   ------------------ --------------------- 3.9/8.7 MB 3.0 MB/s eta 0:00:02\n",
      "   ------------------ --------------------- 4.1/8.7 MB 3.1 MB/s eta 0:00:02\n",
      "   ------------------- -------------------- 4.2/8.7 MB 3.1 MB/s eta 0:00:02\n",
      "   -------------------- ------------------- 4.3/8.7 MB 3.0 MB/s eta 0:00:02\n",
      "   -------------------- ------------------- 4.5/8.7 MB 3.1 MB/s eta 0:00:02\n",
      "   --------------------- ------------------ 4.7/8.7 MB 3.1 MB/s eta 0:00:02\n",
      "   ---------------------- ----------------- 4.9/8.7 MB 3.1 MB/s eta 0:00:02\n",
      "   ----------------------- ---------------- 5.0/8.7 MB 3.1 MB/s eta 0:00:02\n",
      "   ----------------------- ---------------- 5.2/8.7 MB 3.1 MB/s eta 0:00:02\n",
      "   ------------------------ --------------- 5.3/8.7 MB 3.1 MB/s eta 0:00:02\n",
      "   ------------------------- -------------- 5.5/8.7 MB 3.1 MB/s eta 0:00:01\n",
      "   -------------------------- ------------- 5.7/8.7 MB 3.2 MB/s eta 0:00:01\n",
      "   --------------------------- ------------ 5.9/8.7 MB 3.2 MB/s eta 0:00:01\n",
      "   --------------------------- ------------ 6.0/8.7 MB 3.2 MB/s eta 0:00:01\n",
      "   ---------------------------- ----------- 6.2/8.7 MB 3.2 MB/s eta 0:00:01\n",
      "   ----------------------------- ---------- 6.3/8.7 MB 3.2 MB/s eta 0:00:01\n",
      "   ------------------------------ --------- 6.5/8.7 MB 3.2 MB/s eta 0:00:01\n",
      "   ------------------------------ --------- 6.7/8.7 MB 3.2 MB/s eta 0:00:01\n",
      "   ------------------------------- -------- 6.9/8.7 MB 3.2 MB/s eta 0:00:01\n",
      "   -------------------------------- ------- 7.0/8.7 MB 3.2 MB/s eta 0:00:01\n",
      "   --------------------------------- ------ 7.2/8.7 MB 3.3 MB/s eta 0:00:01\n",
      "   ---------------------------------- ----- 7.4/8.7 MB 3.3 MB/s eta 0:00:01\n",
      "   ---------------------------------- ----- 7.6/8.7 MB 3.3 MB/s eta 0:00:01\n",
      "   ----------------------------------- ---- 7.7/8.7 MB 3.3 MB/s eta 0:00:01\n",
      "   ------------------------------------ --- 7.9/8.7 MB 3.3 MB/s eta 0:00:01\n",
      "   ------------------------------------- -- 8.1/8.7 MB 3.3 MB/s eta 0:00:01\n",
      "   -------------------------------------- - 8.3/8.7 MB 3.3 MB/s eta 0:00:01\n",
      "   ---------------------------------------  8.5/8.7 MB 3.3 MB/s eta 0:00:01\n",
      "   ---------------------------------------  8.6/8.7 MB 3.3 MB/s eta 0:00:01\n",
      "   ---------------------------------------- 8.7/8.7 MB 3.3 MB/s eta 0:00:00\n",
      "Downloading semantic_version-2.10.0-py2.py3-none-any.whl (15 kB)\n",
      "Downloading uvicorn-0.29.0-py3-none-any.whl (60 kB)\n",
      "   ---------------------------------------- 0.0/60.8 kB ? eta -:--:--\n",
      "   ---------------------------------------- 60.8/60.8 kB 3.2 MB/s eta 0:00:00\n",
      "Downloading fastapi-0.110.1-py3-none-any.whl (91 kB)\n",
      "   ---------------------------------------- 0.0/91.9 kB ? eta -:--:--\n",
      "   ---------------------------------------- 91.9/91.9 kB 5.4 MB/s eta 0:00:00\n",
      "Downloading pydub-0.25.1-py2.py3-none-any.whl (32 kB)\n",
      "Downloading contourpy-1.2.1-cp312-cp312-win_amd64.whl (189 kB)\n",
      "   ---------------------------------------- 0.0/189.9 kB ? eta -:--:--\n",
      "   ------------------------------------ --- 174.1/189.9 kB 5.3 MB/s eta 0:00:01\n",
      "   ---------------------------------------- 189.9/189.9 kB 3.9 MB/s eta 0:00:00\n",
      "Downloading cycler-0.12.1-py3-none-any.whl (8.3 kB)\n",
      "Downloading fonttools-4.51.0-cp312-cp312-win_amd64.whl (2.2 MB)\n",
      "   ---------------------------------------- 0.0/2.2 MB ? eta -:--:--\n",
      "   --- ------------------------------------ 0.2/2.2 MB 5.3 MB/s eta 0:00:01\n",
      "   ------ --------------------------------- 0.4/2.2 MB 4.5 MB/s eta 0:00:01\n",
      "   --------- ------------------------------ 0.5/2.2 MB 4.1 MB/s eta 0:00:01\n",
      "   ------------- -------------------------- 0.7/2.2 MB 4.2 MB/s eta 0:00:01\n",
      "   ---------------- ----------------------- 0.9/2.2 MB 4.2 MB/s eta 0:00:01\n",
      "   -------------------- ------------------- 1.1/2.2 MB 4.1 MB/s eta 0:00:01\n",
      "   ----------------------- ---------------- 1.3/2.2 MB 4.3 MB/s eta 0:00:01\n",
      "   -------------------------- ------------- 1.5/2.2 MB 4.2 MB/s eta 0:00:01\n",
      "   ------------------------------ --------- 1.7/2.2 MB 4.1 MB/s eta 0:00:01\n",
      "   --------------------------------- ------ 1.8/2.2 MB 4.0 MB/s eta 0:00:01\n",
      "   ------------------------------------- -- 2.0/2.2 MB 4.1 MB/s eta 0:00:01\n",
      "   ---------------------------------------- 2.2/2.2 MB 4.1 MB/s eta 0:00:00\n",
      "Downloading h11-0.14.0-py3-none-any.whl (58 kB)\n",
      "   ---------------------------------------- 0.0/58.3 kB ? eta -:--:--\n",
      "   ---------------------------------------- 58.3/58.3 kB ? eta 0:00:00\n",
      "Downloading kiwisolver-1.4.5-cp312-cp312-win_amd64.whl (56 kB)\n",
      "   ---------------------------------------- 0.0/56.0 kB ? eta -:--:--\n",
      "   ---------------------------------------- 56.0/56.0 kB 1.5 MB/s eta 0:00:00\n",
      "Downloading pyparsing-3.1.2-py3-none-any.whl (103 kB)\n",
      "   ---------------------------------------- 0.0/103.2 kB ? eta -:--:--\n",
      "   ---------------------------------------- 103.2/103.2 kB 2.9 MB/s eta 0:00:00\n",
      "Downloading rich-13.7.1-py3-none-any.whl (240 kB)\n",
      "   ---------------------------------------- 0.0/240.7 kB ? eta -:--:--\n",
      "   ---------------------------- ----------- 174.1/240.7 kB 5.1 MB/s eta 0:00:01\n",
      "   ---------------------------------------- 240.7/240.7 kB 4.9 MB/s eta 0:00:00\n",
      "Downloading shellingham-1.5.4-py2.py3-none-any.whl (9.8 kB)\n",
      "Downloading starlette-0.37.2-py3-none-any.whl (71 kB)\n",
      "   ---------------------------------------- 0.0/71.9 kB ? eta -:--:--\n",
      "   ---------------------------------------- 71.9/71.9 kB 4.1 MB/s eta 0:00:00\n",
      "Downloading anyio-4.3.0-py3-none-any.whl (85 kB)\n",
      "   ---------------------------------------- 0.0/85.6 kB ? eta -:--:--\n",
      "   ---------------------------------------- 85.6/85.6 kB 4.7 MB/s eta 0:00:00\n",
      "Downloading sniffio-1.3.1-py3-none-any.whl (10 kB)\n",
      "Downloading websockets-11.0.3-py3-none-any.whl (118 kB)\n",
      "   ---------------------------------------- 0.0/118.1 kB ? eta -:--:--\n",
      "   ---------------------------------------- 118.1/118.1 kB 7.2 MB/s eta 0:00:00\n",
      "Downloading toolz-0.12.1-py3-none-any.whl (56 kB)\n",
      "   ---------------------------------------- 0.0/56.1 kB ? eta -:--:--\n",
      "   ---------------------------------------- 56.1/56.1 kB 2.9 MB/s eta 0:00:00\n",
      "Downloading markdown_it_py-3.0.0-py3-none-any.whl (87 kB)\n",
      "   ---------------------------------------- 0.0/87.5 kB ? eta -:--:--\n",
      "   ---------------------------------------- 87.5/87.5 kB 5.2 MB/s eta 0:00:00\n",
      "Downloading mdurl-0.1.2-py3-none-any.whl (10.0 kB)\n",
      "Building wheels for collected packages: ffmpy\n",
      "  Building wheel for ffmpy (pyproject.toml): started\n",
      "  Building wheel for ffmpy (pyproject.toml): finished with status 'done'\n",
      "  Created wheel for ffmpy: filename=ffmpy-0.3.2-py3-none-any.whl size=5607 sha256=a934c2e17c7a13574240db00c0a29eddcc6ff7121bf77d069ff7bc9ccc3487d9\n",
      "  Stored in directory: c:\\users\\wen-liang\\appdata\\local\\pip\\cache\\wheels\\8a\\63\\a8\\fad16a1c5c990569a478f40782ce543788ddac224288008635\n",
      "Successfully built ffmpy\n",
      "Installing collected packages: pydub, ffmpy, websockets, toolz, tomlkit, sniffio, shellingham, semantic-version, ruff, python-multipart, pyparsing, orjson, mdurl, kiwisolver, importlib-resources, h11, fonttools, cycler, contourpy, aiofiles, uvicorn, matplotlib, markdown-it-py, httpcore, anyio, starlette, rich, httpx, gradio-client, fastapi, altair, gradio\n",
      "Successfully installed aiofiles-23.2.1 altair-5.3.0 anyio-4.3.0 contourpy-1.2.1 cycler-0.12.1 fastapi-0.110.1 ffmpy-0.3.2 fonttools-4.51.0 gradio-4.26.0 gradio-client-0.15.1 h11-0.14.0 httpcore-1.0.5 httpx-0.27.0 importlib-resources-6.4.0 kiwisolver-1.4.5 markdown-it-py-3.0.0 matplotlib-3.8.4 mdurl-0.1.2 orjson-3.10.0 pydub-0.25.1 pyparsing-3.1.2 python-multipart-0.0.9 rich-13.7.1 ruff-0.3.7 semantic-version-2.10.0 shellingham-1.5.4 sniffio-1.3.1 starlette-0.37.2 tomlkit-0.12.0 toolz-0.12.1 uvicorn-0.29.0 websockets-11.0.3\n"
     ]
    }
   ],
   "source": [
    "!pip install gradio"
   ]
  },
  {
   "cell_type": "code",
   "execution_count": 3,
   "metadata": {},
   "outputs": [],
   "source": [
    "from transformers import pipeline, Conversation\n",
    "import gradio as gr"
   ]
  },
  {
   "cell_type": "code",
   "execution_count": 4,
   "metadata": {},
   "outputs": [
    {
     "name": "stderr",
     "output_type": "stream",
     "text": [
      "No model was supplied, defaulted to distilbert/distilbert-base-uncased-finetuned-sst-2-english and revision af0f99b (https://huggingface.co/distilbert/distilbert-base-uncased-finetuned-sst-2-english).\n",
      "Using a pipeline without specifying a model name and revision in production is not recommended.\n"
     ]
    },
    {
     "data": {
      "text/plain": [
       "[{'label': 'POSITIVE', 'score': 0.9998745918273926}]"
      ]
     },
     "execution_count": 4,
     "metadata": {},
     "output_type": "execute_result"
    }
   ],
   "source": [
    "pipeline(task=\"sentiment-analysis\")(\"Love this!\")"
   ]
  },
  {
   "cell_type": "code",
   "execution_count": 5,
   "metadata": {},
   "outputs": [
    {
     "data": {
      "text/plain": [
       "[{'label': 'POSITIVE', 'score': 0.9998745918273926}]"
      ]
     },
     "execution_count": 5,
     "metadata": {},
     "output_type": "execute_result"
    }
   ],
   "source": [
    "#toy example 2\n",
    "pipeline(task=\"sentiment-analysis\",model=\"distilbert-base-uncased-finetuned-sst-2-english\")(\"Love this!\")"
   ]
  },
  {
   "cell_type": "code",
   "execution_count": 6,
   "metadata": {},
   "outputs": [],
   "source": [
    "classifier = pipeline(task=\"sentiment-analysis\",model=\"distilbert-base-uncased-finetuned-sst-2-english\")"
   ]
  },
  {
   "cell_type": "code",
   "execution_count": 7,
   "metadata": {},
   "outputs": [
    {
     "data": {
      "text/plain": [
       "[{'label': 'NEGATIVE', 'score': 0.9997244477272034}]"
      ]
     },
     "execution_count": 7,
     "metadata": {},
     "output_type": "execute_result"
    }
   ],
   "source": [
    "classifier(\"Hate this\")"
   ]
  },
  {
   "cell_type": "code",
   "execution_count": 8,
   "metadata": {},
   "outputs": [
    {
     "data": {
      "text/plain": [
       "[{'label': 'POSITIVE', 'score': 0.9998785257339478},\n",
       " {'label': 'POSITIVE', 'score': 0.9680055975914001},\n",
       " {'label': 'NEGATIVE', 'score': 0.8776114583015442},\n",
       " {'label': 'POSITIVE', 'score': 0.9998120665550232}]"
      ]
     },
     "execution_count": 8,
     "metadata": {},
     "output_type": "execute_result"
    }
   ],
   "source": [
    "text_list = [\"This is great\",\\\n",
    "             \"Thanks for nothing\",\\\n",
    "             \"You've got to work on your face\",\\\n",
    "             \"You're beautiful, never change!\"\n",
    "    ]\n",
    "\n",
    "classifier(text_list)"
   ]
  },
  {
   "cell_type": "code",
   "execution_count": 11,
   "metadata": {},
   "outputs": [],
   "source": [
    "#if there a\n",
    "classifier = pipeline(task=\"text-classification\", model=\"SamLowe/roberta-base-go_emotions\", top_k=None)"
   ]
  },
  {
   "cell_type": "code",
   "execution_count": 15,
   "metadata": {},
   "outputs": [
    {
     "data": {
      "text/plain": [
       "[[{'label': 'admiration', 'score': 0.9503410458564758},\n",
       "  {'label': 'approval', 'score': 0.05362682417035103},\n",
       "  {'label': 'neutral', 'score': 0.016822468489408493},\n",
       "  {'label': 'optimism', 'score': 0.016350792720913887},\n",
       "  {'label': 'realization', 'score': 0.008108657784759998},\n",
       "  {'label': 'gratitude', 'score': 0.006836402229964733},\n",
       "  {'label': 'disapproval', 'score': 0.005897047463804483},\n",
       "  {'label': 'excitement', 'score': 0.005459046922624111},\n",
       "  {'label': 'love', 'score': 0.004673932213336229},\n",
       "  {'label': 'annoyance', 'score': 0.00414288230240345},\n",
       "  {'label': 'disappointment', 'score': 0.003620987059548497},\n",
       "  {'label': 'joy', 'score': 0.00314304674975574},\n",
       "  {'label': 'surprise', 'score': 0.0030657900497317314},\n",
       "  {'label': 'pride', 'score': 0.0030227939132601023},\n",
       "  {'label': 'confusion', 'score': 0.0029010120779275894},\n",
       "  {'label': 'caring', 'score': 0.0028575120959430933},\n",
       "  {'label': 'curiosity', 'score': 0.0028132707811892033},\n",
       "  {'label': 'anger', 'score': 0.0017256226856261492},\n",
       "  {'label': 'desire', 'score': 0.0016102469526231289},\n",
       "  {'label': 'sadness', 'score': 0.0015330410096794367},\n",
       "  {'label': 'amusement', 'score': 0.0014668905641883612},\n",
       "  {'label': 'disgust', 'score': 0.000962209771387279},\n",
       "  {'label': 'fear', 'score': 0.0007860343903303146},\n",
       "  {'label': 'relief', 'score': 0.0006822512368671596},\n",
       "  {'label': 'remorse', 'score': 0.0003767799062188715},\n",
       "  {'label': 'grief', 'score': 0.00036192871630191803},\n",
       "  {'label': 'embarrassment', 'score': 0.00032691570231691003},\n",
       "  {'label': 'nervousness', 'score': 0.00029020151123404503}]]"
      ]
     },
     "execution_count": 15,
     "metadata": {},
     "output_type": "execute_result"
    }
   ],
   "source": [
    "classifier(text_list[3])"
   ]
  },
  {
   "cell_type": "code",
   "execution_count": 16,
   "metadata": {},
   "outputs": [
    {
     "data": {
      "application/vnd.jupyter.widget-view+json": {
       "model_id": "40b5a3832aad4e1ba380f3a8f963e2fa",
       "version_major": 2,
       "version_minor": 0
      },
      "text/plain": [
       "config.json:   0%|          | 0.00/1.58k [00:00<?, ?B/s]"
      ]
     },
     "metadata": {},
     "output_type": "display_data"
    },
    {
     "data": {
      "application/vnd.jupyter.widget-view+json": {
       "model_id": "46f7f8d38f9149f892acf4228301ac5e",
       "version_major": 2,
       "version_minor": 0
      },
      "text/plain": [
       "model.safetensors:   0%|          | 0.00/1.63G [00:00<?, ?B/s]"
      ]
     },
     "metadata": {},
     "output_type": "display_data"
    },
    {
     "data": {
      "application/vnd.jupyter.widget-view+json": {
       "model_id": "2b728b4aa42942598779c758872e7c0f",
       "version_major": 2,
       "version_minor": 0
      },
      "text/plain": [
       "generation_config.json:   0%|          | 0.00/363 [00:00<?, ?B/s]"
      ]
     },
     "metadata": {},
     "output_type": "display_data"
    },
    {
     "data": {
      "application/vnd.jupyter.widget-view+json": {
       "model_id": "24457e905f9c441e8d3a6a3fcfbc4450",
       "version_major": 2,
       "version_minor": 0
      },
      "text/plain": [
       "vocab.json:   0%|          | 0.00/899k [00:00<?, ?B/s]"
      ]
     },
     "metadata": {},
     "output_type": "display_data"
    },
    {
     "data": {
      "application/vnd.jupyter.widget-view+json": {
       "model_id": "7201a61a9bea482a8ba31b1d63d558b6",
       "version_major": 2,
       "version_minor": 0
      },
      "text/plain": [
       "merges.txt:   0%|          | 0.00/456k [00:00<?, ?B/s]"
      ]
     },
     "metadata": {},
     "output_type": "display_data"
    },
    {
     "data": {
      "application/vnd.jupyter.widget-view+json": {
       "model_id": "584878d2df1f4b38ac5fc74586ea026a",
       "version_major": 2,
       "version_minor": 0
      },
      "text/plain": [
       "tokenizer.json:   0%|          | 0.00/1.36M [00:00<?, ?B/s]"
      ]
     },
     "metadata": {},
     "output_type": "display_data"
    }
   ],
   "source": [
    "summarizer = pipeline(\"summarization\",model=\"facebook/bart-large-cnn\")"
   ]
  },
  {
   "cell_type": "code",
   "execution_count": 17,
   "metadata": {},
   "outputs": [
    {
     "data": {
      "text/plain": [
       "'Hugging Face is an AI company that has become a major hub for open-source machine learning. They have 3 major elements which allow users to access and share machine learning resources.'"
      ]
     },
     "execution_count": 17,
     "metadata": {},
     "output_type": "execute_result"
    }
   ],
   "source": [
    "text = \"\"\"\n",
    "Hugging Face is an AI company that has become a major hub for open-source machine learning. \n",
    "Their platform has 3 major elements which allow users to access and share machine learning resources. \n",
    "First, is their rapidly growing repository of pre-trained open-source machine learning models for things such as natural language processing (NLP), computer vision, and more. \n",
    "Second, is their library of datasets for training machine learning models for almost any task. \n",
    "Third, and finally, is Spaces which is a collection of open-source ML apps.\n",
    "\n",
    "The power of these resources is that they are community generated, which leverages all the benefits of open source i.e. cost-free, wide diversity of tools, high quality resources, and rapid pace of innovation. \n",
    "While these make building powerful ML projects more accessible than before, there is another key element of the Hugging Face ecosystem—their Transformers library.\n",
    "\"\"\"\n",
    "summarized_text = summarizer(text,min_length=5,max_length=140)[0]['summary_text']\n",
    "summarized_text"
   ]
  },
  {
   "cell_type": "code",
   "execution_count": 18,
   "metadata": {},
   "outputs": [
    {
     "data": {
      "text/plain": [
       "[[{'label': 'neutral', 'score': 0.9101783633232117},\n",
       "  {'label': 'approval', 'score': 0.08781357854604721},\n",
       "  {'label': 'realization', 'score': 0.023256288841366768},\n",
       "  {'label': 'annoyance', 'score': 0.006623792462050915},\n",
       "  {'label': 'admiration', 'score': 0.004981078673154116},\n",
       "  {'label': 'disapproval', 'score': 0.004730124492198229},\n",
       "  {'label': 'optimism', 'score': 0.0033590742386877537},\n",
       "  {'label': 'disappointment', 'score': 0.0026190048083662987},\n",
       "  {'label': 'confusion', 'score': 0.0019539794884622097},\n",
       "  {'label': 'excitement', 'score': 0.0012417068937793374},\n",
       "  {'label': 'disgust', 'score': 0.0011407802812755108},\n",
       "  {'label': 'joy', 'score': 0.0010540124494582415},\n",
       "  {'label': 'amusement', 'score': 0.0009572383714839816},\n",
       "  {'label': 'love', 'score': 0.0008871068712323904},\n",
       "  {'label': 'desire', 'score': 0.0008553271181881428},\n",
       "  {'label': 'curiosity', 'score': 0.0008261064067482948},\n",
       "  {'label': 'anger', 'score': 0.0007336392882280052},\n",
       "  {'label': 'caring', 'score': 0.0006971120019443333},\n",
       "  {'label': 'sadness', 'score': 0.0006702451501041651},\n",
       "  {'label': 'gratitude', 'score': 0.0006645721150562167},\n",
       "  {'label': 'surprise', 'score': 0.0005773770390078425},\n",
       "  {'label': 'relief', 'score': 0.0004789051308762282},\n",
       "  {'label': 'fear', 'score': 0.000451251253252849},\n",
       "  {'label': 'pride', 'score': 0.00035174310323782265},\n",
       "  {'label': 'embarrassment', 'score': 0.00032615300733596087},\n",
       "  {'label': 'remorse', 'score': 0.00019475817680358887},\n",
       "  {'label': 'nervousness', 'score': 0.00018521495803724974},\n",
       "  {'label': 'grief', 'score': 0.00016037889872677624}]]"
      ]
     },
     "execution_count": 18,
     "metadata": {},
     "output_type": "execute_result"
    }
   ],
   "source": [
    "classifier(summarized_text)"
   ]
  },
  {
   "cell_type": "code",
   "execution_count": 19,
   "metadata": {},
   "outputs": [],
   "source": [
    "chatbox = pipeline(model=\"facebook/blenderbot-400M-distill\")"
   ]
  },
  {
   "cell_type": "code",
   "execution_count": 20,
   "metadata": {},
   "outputs": [],
   "source": [
    "conversation = chatbox(\"Hi I'm Shaw, how are you?\")"
   ]
  },
  {
   "cell_type": "code",
   "execution_count": 21,
   "metadata": {},
   "outputs": [
    {
     "data": {
      "text/plain": [
       "[{'generated_text': \" I'm doing well. How are you doing this evening? I just got home from work.\"}]"
      ]
     },
     "execution_count": 21,
     "metadata": {},
     "output_type": "execute_result"
    }
   ],
   "source": [
    "conversation"
   ]
  },
  {
   "cell_type": "code",
   "execution_count": 22,
   "metadata": {},
   "outputs": [],
   "source": [
    "conversation = chatbox(\"Do you the address of Taipei 101\")"
   ]
  },
  {
   "cell_type": "code",
   "execution_count": 23,
   "metadata": {},
   "outputs": [
    {
     "data": {
      "text/plain": [
       "[{'generated_text': \" I'm not sure what Taipi is, but I do know it's an American multinational electronics company.\"}]"
      ]
     },
     "execution_count": 23,
     "metadata": {},
     "output_type": "execute_result"
    }
   ],
   "source": [
    "conversation"
   ]
  }
 ],
 "metadata": {
  "kernelspec": {
   "display_name": "Python 3",
   "language": "python",
   "name": "python3"
  },
  "language_info": {
   "codemirror_mode": {
    "name": "ipython",
    "version": 3
   },
   "file_extension": ".py",
   "mimetype": "text/x-python",
   "name": "python",
   "nbconvert_exporter": "python",
   "pygments_lexer": "ipython3",
   "version": "3.12.2"
  }
 },
 "nbformat": 4,
 "nbformat_minor": 2
}
