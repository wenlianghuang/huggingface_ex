{
 "cells": [
  {
   "cell_type": "code",
   "execution_count": 24,
   "metadata": {},
   "outputs": [],
   "source": [
    "from pathlib import Path\n",
    "import re\n",
    "\n",
    "def read_wnut(file_path):\n",
    "    file_path = Path(file_path)\n",
    "\n",
    "    raw_text = file_path.read_text().strip()\n",
    "    raw_docs = re.split(r'\\n\\t?\\n', raw_text)\n",
    "    token_docs = []\n",
    "    tag_docs = []\n",
    "    for doc in raw_docs:\n",
    "        tokens = []\n",
    "        tags = []\n",
    "        for line in doc.split('\\n'):\n",
    "            token, tag = line.split('\\t')\n",
    "            tokens.append(token)\n",
    "            tags.append(tag)\n",
    "        token_docs.append(tokens)\n",
    "        tag_docs.append(tags)\n",
    "\n",
    "    return token_docs, tag_docs\n",
    "\n",
    "texts, tags = read_wnut('wnut17train.conll')"
   ]
  },
  {
   "cell_type": "code",
   "execution_count": 25,
   "metadata": {},
   "outputs": [],
   "source": [
    "from sklearn.model_selection import train_test_split\n",
    "train_texts, val_texts, train_tags, val_tags = train_test_split(texts, tags, test_size=.2)"
   ]
  },
  {
   "cell_type": "code",
   "execution_count": 26,
   "metadata": {},
   "outputs": [],
   "source": [
    "unique_tags = set(tag for doc in tags for tag in doc)\n",
    "tag2id = {tag: id for id, tag in enumerate(unique_tags)}\n",
    "id2tag = {id: tag for tag, id in tag2id.items()}"
   ]
  },
  {
   "cell_type": "code",
   "execution_count": 27,
   "metadata": {},
   "outputs": [],
   "source": [
    "from transformers import DistilBertTokenizerFast\n",
    "tokenizer = DistilBertTokenizerFast.from_pretrained('distilbert-base-cased')\n",
    "train_encodings = tokenizer(train_texts, is_split_into_words=True, return_offsets_mapping=True, padding=True, truncation=True)\n",
    "val_encodings = tokenizer(val_texts, is_split_into_words=True, return_offsets_mapping=True, padding=True, truncation=True)"
   ]
  },
  {
   "cell_type": "code",
   "execution_count": 28,
   "metadata": {},
   "outputs": [],
   "source": [
    "import numpy as np\n",
    "\n",
    "def encode_tags(tags, encodings):\n",
    "    labels = [[tag2id[tag] for tag in doc] for doc in tags]\n",
    "    encoded_labels = []\n",
    "    for doc_labels, doc_offset in zip(labels, encodings.offset_mapping):\n",
    "        # create an empty array of -100\n",
    "        doc_enc_labels = np.ones(len(doc_offset),dtype=int) * -100\n",
    "        arr_offset = np.array(doc_offset)\n",
    "\n",
    "        # set labels whose first offset position is 0 and the second is not 0\n",
    "        doc_enc_labels[(arr_offset[:,0] == 0) & (arr_offset[:,1] != 0)] = doc_labels\n",
    "        encoded_labels.append(doc_enc_labels.tolist())\n",
    "\n",
    "    return encoded_labels\n",
    "\n",
    "train_labels = encode_tags(train_tags, train_encodings)\n",
    "val_labels = encode_tags(val_tags, val_encodings)"
   ]
  },
  {
   "cell_type": "code",
   "execution_count": 29,
   "metadata": {},
   "outputs": [],
   "source": [
    "import torch\n",
    "\n",
    "class WNUTDataset(torch.utils.data.Dataset):\n",
    "    def __init__(self, encodings, labels):\n",
    "        self.encodings = encodings\n",
    "        self.labels = labels\n",
    "\n",
    "    def __getitem__(self, idx):\n",
    "        item = {key: torch.tensor(val[idx]) for key, val in self.encodings.items()}\n",
    "        item['labels'] = torch.tensor(self.labels[idx])\n",
    "        return item\n",
    "\n",
    "    def __len__(self):\n",
    "        return len(self.labels)\n",
    "\n",
    "train_encodings.pop(\"offset_mapping\") # we don't want to pass this to the model\n",
    "val_encodings.pop(\"offset_mapping\")\n",
    "train_dataset = WNUTDataset(train_encodings, train_labels)\n",
    "val_dataset = WNUTDataset(val_encodings, val_labels)"
   ]
  },
  {
   "cell_type": "code",
   "execution_count": 30,
   "metadata": {},
   "outputs": [
    {
     "name": "stderr",
     "output_type": "stream",
     "text": [
      "Some weights of DistilBertForTokenClassification were not initialized from the model checkpoint at distilbert-base-cased and are newly initialized: ['classifier.bias', 'classifier.weight']\n",
      "You should probably TRAIN this model on a down-stream task to be able to use it for predictions and inference.\n"
     ]
    }
   ],
   "source": [
    "from transformers import DistilBertForTokenClassification\n",
    "model = DistilBertForTokenClassification.from_pretrained('distilbert-base-cased', num_labels=len(unique_tags))"
   ]
  },
  {
   "cell_type": "code",
   "execution_count": 31,
   "metadata": {},
   "outputs": [
    {
     "name": "stderr",
     "output_type": "stream",
     "text": [
      "c:\\Users\\Wen-Liang\\AppData\\Local\\Programs\\Python\\Python312\\Lib\\site-packages\\accelerate\\accelerator.py:432: FutureWarning: Passing the following arguments to `Accelerator` is deprecated and will be removed in version 1.0 of Accelerate: dict_keys(['dispatch_batches', 'split_batches', 'even_batches', 'use_seedable_sampler']). Please pass an `accelerate.DataLoaderConfiguration` instead: \n",
      "dataloader_config = DataLoaderConfiguration(dispatch_batches=None, split_batches=False, even_batches=True, use_seedable_sampler=True)\n",
      "  warnings.warn(\n"
     ]
    },
    {
     "data": {
      "application/vnd.jupyter.widget-view+json": {
       "model_id": "aa998525a72443f9b64d77e70c2c5a62",
       "version_major": 2,
       "version_minor": 0
      },
      "text/plain": [
       "  0%|          | 0/510 [00:00<?, ?it/s]"
      ]
     },
     "metadata": {},
     "output_type": "display_data"
    },
    {
     "name": "stdout",
     "output_type": "stream",
     "text": [
      "{'loss': 2.8727, 'grad_norm': 11.049988746643066, 'learning_rate': 1.0000000000000002e-06, 'epoch': 0.06}\n",
      "{'loss': 2.775, 'grad_norm': 10.568869590759277, 'learning_rate': 2.0000000000000003e-06, 'epoch': 0.12}\n",
      "{'loss': 2.6035, 'grad_norm': 10.678314208984375, 'learning_rate': 3e-06, 'epoch': 0.18}\n",
      "{'loss': 2.3433, 'grad_norm': 11.316731452941895, 'learning_rate': 4.000000000000001e-06, 'epoch': 0.24}\n",
      "{'loss': 1.9099, 'grad_norm': 11.54658031463623, 'learning_rate': 5e-06, 'epoch': 0.29}\n",
      "{'loss': 1.2888, 'grad_norm': 10.277982711791992, 'learning_rate': 6e-06, 'epoch': 0.35}\n",
      "{'loss': 0.5541, 'grad_norm': 2.5050559043884277, 'learning_rate': 7.000000000000001e-06, 'epoch': 0.41}\n",
      "{'loss': 0.4333, 'grad_norm': 0.7750217318534851, 'learning_rate': 8.000000000000001e-06, 'epoch': 0.47}\n",
      "{'loss': 0.2689, 'grad_norm': 1.9181374311447144, 'learning_rate': 9e-06, 'epoch': 0.53}\n",
      "{'loss': 0.3105, 'grad_norm': 1.0806028842926025, 'learning_rate': 1e-05, 'epoch': 0.59}\n",
      "{'loss': 0.2569, 'grad_norm': 1.5249730348587036, 'learning_rate': 1.1000000000000001e-05, 'epoch': 0.65}\n",
      "{'loss': 0.2569, 'grad_norm': 2.3639118671417236, 'learning_rate': 1.2e-05, 'epoch': 0.71}\n",
      "{'loss': 0.2557, 'grad_norm': 1.2300786972045898, 'learning_rate': 1.3000000000000001e-05, 'epoch': 0.76}\n",
      "{'loss': 0.1826, 'grad_norm': 0.6585666537284851, 'learning_rate': 1.4000000000000001e-05, 'epoch': 0.82}\n",
      "{'loss': 0.2678, 'grad_norm': 2.111046314239502, 'learning_rate': 1.5e-05, 'epoch': 0.88}\n",
      "{'loss': 0.2116, 'grad_norm': 1.782669186592102, 'learning_rate': 1.6000000000000003e-05, 'epoch': 0.94}\n",
      "{'loss': 0.1632, 'grad_norm': 2.013235330581665, 'learning_rate': 1.7000000000000003e-05, 'epoch': 1.0}\n",
      "{'loss': 0.2172, 'grad_norm': 1.8415604829788208, 'learning_rate': 1.8e-05, 'epoch': 1.06}\n",
      "{'loss': 0.1997, 'grad_norm': 0.9427857995033264, 'learning_rate': 1.9e-05, 'epoch': 1.12}\n",
      "{'loss': 0.2299, 'grad_norm': 1.9120956659317017, 'learning_rate': 2e-05, 'epoch': 1.18}\n",
      "{'loss': 0.168, 'grad_norm': 0.6995565295219421, 'learning_rate': 2.1e-05, 'epoch': 1.24}\n",
      "{'loss': 0.1761, 'grad_norm': 0.7525931596755981, 'learning_rate': 2.2000000000000003e-05, 'epoch': 1.29}\n",
      "{'loss': 0.1589, 'grad_norm': 1.3134944438934326, 'learning_rate': 2.3000000000000003e-05, 'epoch': 1.35}\n",
      "{'loss': 0.223, 'grad_norm': 1.2446638345718384, 'learning_rate': 2.4e-05, 'epoch': 1.41}\n",
      "{'loss': 0.1344, 'grad_norm': 1.996567726135254, 'learning_rate': 2.5e-05, 'epoch': 1.47}\n",
      "{'loss': 0.1571, 'grad_norm': 1.117788553237915, 'learning_rate': 2.6000000000000002e-05, 'epoch': 1.53}\n",
      "{'loss': 0.1759, 'grad_norm': 1.0324432849884033, 'learning_rate': 2.7000000000000002e-05, 'epoch': 1.59}\n",
      "{'loss': 0.1701, 'grad_norm': 1.6978974342346191, 'learning_rate': 2.8000000000000003e-05, 'epoch': 1.65}\n",
      "{'loss': 0.1257, 'grad_norm': 1.6931594610214233, 'learning_rate': 2.9e-05, 'epoch': 1.71}\n",
      "{'loss': 0.1713, 'grad_norm': 1.8319860696792603, 'learning_rate': 3e-05, 'epoch': 1.76}\n",
      "{'loss': 0.1407, 'grad_norm': 1.5800307989120483, 'learning_rate': 3.1e-05, 'epoch': 1.82}\n",
      "{'loss': 0.136, 'grad_norm': 1.2861464023590088, 'learning_rate': 3.2000000000000005e-05, 'epoch': 1.88}\n",
      "{'loss': 0.1562, 'grad_norm': 1.5771585702896118, 'learning_rate': 3.3e-05, 'epoch': 1.94}\n",
      "{'loss': 0.1366, 'grad_norm': 1.3395318984985352, 'learning_rate': 3.4000000000000007e-05, 'epoch': 2.0}\n",
      "{'loss': 0.1459, 'grad_norm': 1.5554355382919312, 'learning_rate': 3.5e-05, 'epoch': 2.06}\n",
      "{'loss': 0.102, 'grad_norm': 2.0796802043914795, 'learning_rate': 3.6e-05, 'epoch': 2.12}\n",
      "{'loss': 0.0736, 'grad_norm': 1.0740957260131836, 'learning_rate': 3.7e-05, 'epoch': 2.18}\n",
      "{'loss': 0.0719, 'grad_norm': 1.0766314268112183, 'learning_rate': 3.8e-05, 'epoch': 2.24}\n",
      "{'loss': 0.0848, 'grad_norm': 0.6621025800704956, 'learning_rate': 3.9000000000000006e-05, 'epoch': 2.29}\n",
      "{'loss': 0.1075, 'grad_norm': 3.896730422973633, 'learning_rate': 4e-05, 'epoch': 2.35}\n",
      "{'loss': 0.0717, 'grad_norm': 0.46335577964782715, 'learning_rate': 4.1e-05, 'epoch': 2.41}\n",
      "{'loss': 0.0845, 'grad_norm': 1.5554896593093872, 'learning_rate': 4.2e-05, 'epoch': 2.47}\n",
      "{'loss': 0.0932, 'grad_norm': 1.1800427436828613, 'learning_rate': 4.3e-05, 'epoch': 2.53}\n",
      "{'loss': 0.0984, 'grad_norm': 0.8484750986099243, 'learning_rate': 4.4000000000000006e-05, 'epoch': 2.59}\n",
      "{'loss': 0.1056, 'grad_norm': 1.418234944343567, 'learning_rate': 4.5e-05, 'epoch': 2.65}\n",
      "{'loss': 0.12, 'grad_norm': 2.6777567863464355, 'learning_rate': 4.600000000000001e-05, 'epoch': 2.71}\n",
      "{'loss': 0.0836, 'grad_norm': 1.048653244972229, 'learning_rate': 4.7e-05, 'epoch': 2.76}\n",
      "{'loss': 0.107, 'grad_norm': 1.5277279615402222, 'learning_rate': 4.8e-05, 'epoch': 2.82}\n",
      "{'loss': 0.1093, 'grad_norm': 3.3867523670196533, 'learning_rate': 4.9e-05, 'epoch': 2.88}\n",
      "{'loss': 0.1164, 'grad_norm': 2.1650550365448, 'learning_rate': 5e-05, 'epoch': 2.94}\n",
      "{'loss': 0.0985, 'grad_norm': 1.518924355506897, 'learning_rate': 0.0, 'epoch': 3.0}\n",
      "{'train_runtime': 47.962, 'train_samples_per_second': 169.822, 'train_steps_per_second': 10.633, 'train_loss': 0.42167692137699503, 'epoch': 3.0}\n"
     ]
    },
    {
     "data": {
      "text/plain": [
       "TrainOutput(global_step=510, training_loss=0.42167692137699503, metrics={'train_runtime': 47.962, 'train_samples_per_second': 169.822, 'train_steps_per_second': 10.633, 'train_loss': 0.42167692137699503, 'epoch': 3.0})"
      ]
     },
     "execution_count": 31,
     "metadata": {},
     "output_type": "execute_result"
    }
   ],
   "source": [
    "from transformers import DistilBertForSequenceClassification, Trainer, TrainingArguments\n",
    "\n",
    "training_args = TrainingArguments(\n",
    "    output_dir='./results2',          # output directory\n",
    "    num_train_epochs=3,              # total number of training epochs\n",
    "    per_device_train_batch_size=16,  # batch size per device during training\n",
    "    per_device_eval_batch_size=64,   # batch size for evaluation\n",
    "    warmup_steps=500,                # number of warmup steps for learning rate scheduler\n",
    "    weight_decay=0.01,               # strength of weight decay\n",
    "    logging_dir='./logs',            # directory for storing logs\n",
    "    logging_steps=10,\n",
    ")\n",
    "\n",
    "\n",
    "trainer = Trainer(\n",
    "    model=model,                         # the instantiated 🤗 Transformers model to be trained\n",
    "    args=training_args,                  # training arguments, defined above\n",
    "    train_dataset=train_dataset,         # training dataset\n",
    "    eval_dataset=val_dataset             # evaluation dataset\n",
    ")\n",
    "\n",
    "trainer.train()"
   ]
  }
 ],
 "metadata": {
  "kernelspec": {
   "display_name": "Python 3",
   "language": "python",
   "name": "python3"
  },
  "language_info": {
   "codemirror_mode": {
    "name": "ipython",
    "version": 3
   },
   "file_extension": ".py",
   "mimetype": "text/x-python",
   "name": "python",
   "nbconvert_exporter": "python",
   "pygments_lexer": "ipython3",
   "version": "3.12.2"
  }
 },
 "nbformat": 4,
 "nbformat_minor": 2
}
