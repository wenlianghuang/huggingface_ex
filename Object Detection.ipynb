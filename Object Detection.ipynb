{
 "cells": [
  {
   "cell_type": "code",
   "execution_count": 1,
   "metadata": {},
   "outputs": [
    {
     "name": "stdout",
     "output_type": "stream",
     "text": [
      "Requirement already satisfied: transformers in c:\\users\\acer alan\\appdata\\local\\programs\\python\\python311\\lib\\site-packages (4.39.3)\n",
      "Requirement already satisfied: filelock in c:\\users\\acer alan\\appdata\\local\\programs\\python\\python311\\lib\\site-packages (from transformers) (3.9.0)\n",
      "Requirement already satisfied: huggingface-hub<1.0,>=0.19.3 in c:\\users\\acer alan\\appdata\\local\\programs\\python\\python311\\lib\\site-packages (from transformers) (0.22.2)\n",
      "Requirement already satisfied: numpy>=1.17 in c:\\users\\acer alan\\appdata\\local\\programs\\python\\python311\\lib\\site-packages (from transformers) (1.26.3)\n",
      "Requirement already satisfied: packaging>=20.0 in c:\\users\\acer alan\\appdata\\local\\programs\\python\\python311\\lib\\site-packages (from transformers) (24.0)\n",
      "Requirement already satisfied: pyyaml>=5.1 in c:\\users\\acer alan\\appdata\\local\\programs\\python\\python311\\lib\\site-packages (from transformers) (6.0.1)\n",
      "Requirement already satisfied: regex!=2019.12.17 in c:\\users\\acer alan\\appdata\\local\\programs\\python\\python311\\lib\\site-packages (from transformers) (2023.12.25)\n",
      "Requirement already satisfied: requests in c:\\users\\acer alan\\appdata\\local\\programs\\python\\python311\\lib\\site-packages (from transformers) (2.28.1)\n",
      "Requirement already satisfied: tokenizers<0.19,>=0.14 in c:\\users\\acer alan\\appdata\\local\\programs\\python\\python311\\lib\\site-packages (from transformers) (0.15.2)\n",
      "Requirement already satisfied: safetensors>=0.4.1 in c:\\users\\acer alan\\appdata\\local\\programs\\python\\python311\\lib\\site-packages (from transformers) (0.4.3)\n",
      "Requirement already satisfied: tqdm>=4.27 in c:\\users\\acer alan\\appdata\\local\\programs\\python\\python311\\lib\\site-packages (from transformers) (4.66.2)\n",
      "Requirement already satisfied: fsspec>=2023.5.0 in c:\\users\\acer alan\\appdata\\local\\programs\\python\\python311\\lib\\site-packages (from huggingface-hub<1.0,>=0.19.3->transformers) (2024.3.1)\n",
      "Requirement already satisfied: typing-extensions>=3.7.4.3 in c:\\users\\acer alan\\appdata\\local\\programs\\python\\python311\\lib\\site-packages (from huggingface-hub<1.0,>=0.19.3->transformers) (4.8.0)\n",
      "Requirement already satisfied: colorama in c:\\users\\acer alan\\appdata\\local\\programs\\python\\python311\\lib\\site-packages (from tqdm>=4.27->transformers) (0.4.6)\n",
      "Requirement already satisfied: charset-normalizer<3,>=2 in c:\\users\\acer alan\\appdata\\local\\programs\\python\\python311\\lib\\site-packages (from requests->transformers) (2.1.1)\n",
      "Requirement already satisfied: idna<4,>=2.5 in c:\\users\\acer alan\\appdata\\local\\programs\\python\\python311\\lib\\site-packages (from requests->transformers) (3.4)\n",
      "Requirement already satisfied: urllib3<1.27,>=1.21.1 in c:\\users\\acer alan\\appdata\\local\\programs\\python\\python311\\lib\\site-packages (from requests->transformers) (1.26.13)\n",
      "Requirement already satisfied: certifi>=2017.4.17 in c:\\users\\acer alan\\appdata\\local\\programs\\python\\python311\\lib\\site-packages (from requests->transformers) (2022.12.7)\n"
     ]
    }
   ],
   "source": [
    "!pip install transformers"
   ]
  },
  {
   "cell_type": "code",
   "execution_count": 2,
   "metadata": {},
   "outputs": [
    {
     "name": "stdout",
     "output_type": "stream",
     "text": [
      "Requirement already satisfied: timm in c:\\users\\acer alan\\appdata\\local\\programs\\python\\python311\\lib\\site-packages (0.9.16)\n",
      "Requirement already satisfied: torch in c:\\users\\acer alan\\appdata\\local\\programs\\python\\python311\\lib\\site-packages (from timm) (2.2.0+cu118)\n",
      "Requirement already satisfied: torchvision in c:\\users\\acer alan\\appdata\\local\\programs\\python\\python311\\lib\\site-packages (from timm) (0.17.0+cu118)\n",
      "Requirement already satisfied: pyyaml in c:\\users\\acer alan\\appdata\\local\\programs\\python\\python311\\lib\\site-packages (from timm) (6.0.1)\n",
      "Requirement already satisfied: huggingface_hub in c:\\users\\acer alan\\appdata\\local\\programs\\python\\python311\\lib\\site-packages (from timm) (0.22.2)\n",
      "Requirement already satisfied: safetensors in c:\\users\\acer alan\\appdata\\local\\programs\\python\\python311\\lib\\site-packages (from timm) (0.4.3)\n",
      "Requirement already satisfied: filelock in c:\\users\\acer alan\\appdata\\local\\programs\\python\\python311\\lib\\site-packages (from huggingface_hub->timm) (3.9.0)\n",
      "Requirement already satisfied: fsspec>=2023.5.0 in c:\\users\\acer alan\\appdata\\local\\programs\\python\\python311\\lib\\site-packages (from huggingface_hub->timm) (2024.3.1)\n",
      "Requirement already satisfied: packaging>=20.9 in c:\\users\\acer alan\\appdata\\local\\programs\\python\\python311\\lib\\site-packages (from huggingface_hub->timm) (24.0)\n",
      "Requirement already satisfied: requests in c:\\users\\acer alan\\appdata\\local\\programs\\python\\python311\\lib\\site-packages (from huggingface_hub->timm) (2.28.1)\n",
      "Requirement already satisfied: tqdm>=4.42.1 in c:\\users\\acer alan\\appdata\\local\\programs\\python\\python311\\lib\\site-packages (from huggingface_hub->timm) (4.66.2)\n",
      "Requirement already satisfied: typing-extensions>=3.7.4.3 in c:\\users\\acer alan\\appdata\\local\\programs\\python\\python311\\lib\\site-packages (from huggingface_hub->timm) (4.8.0)\n",
      "Requirement already satisfied: sympy in c:\\users\\acer alan\\appdata\\local\\programs\\python\\python311\\lib\\site-packages (from torch->timm) (1.12)\n",
      "Requirement already satisfied: networkx in c:\\users\\acer alan\\appdata\\local\\programs\\python\\python311\\lib\\site-packages (from torch->timm) (3.2.1)\n",
      "Requirement already satisfied: jinja2 in c:\\users\\acer alan\\appdata\\local\\programs\\python\\python311\\lib\\site-packages (from torch->timm) (3.1.2)\n",
      "Requirement already satisfied: numpy in c:\\users\\acer alan\\appdata\\local\\programs\\python\\python311\\lib\\site-packages (from torchvision->timm) (1.26.3)\n",
      "Requirement already satisfied: pillow!=8.3.*,>=5.3.0 in c:\\users\\acer alan\\appdata\\local\\programs\\python\\python311\\lib\\site-packages (from torchvision->timm) (10.2.0)\n",
      "Requirement already satisfied: colorama in c:\\users\\acer alan\\appdata\\local\\programs\\python\\python311\\lib\\site-packages (from tqdm>=4.42.1->huggingface_hub->timm) (0.4.6)\n",
      "Requirement already satisfied: MarkupSafe>=2.0 in c:\\users\\acer alan\\appdata\\local\\programs\\python\\python311\\lib\\site-packages (from jinja2->torch->timm) (2.1.3)\n",
      "Requirement already satisfied: charset-normalizer<3,>=2 in c:\\users\\acer alan\\appdata\\local\\programs\\python\\python311\\lib\\site-packages (from requests->huggingface_hub->timm) (2.1.1)\n",
      "Requirement already satisfied: idna<4,>=2.5 in c:\\users\\acer alan\\appdata\\local\\programs\\python\\python311\\lib\\site-packages (from requests->huggingface_hub->timm) (3.4)\n",
      "Requirement already satisfied: urllib3<1.27,>=1.21.1 in c:\\users\\acer alan\\appdata\\local\\programs\\python\\python311\\lib\\site-packages (from requests->huggingface_hub->timm) (1.26.13)\n",
      "Requirement already satisfied: certifi>=2017.4.17 in c:\\users\\acer alan\\appdata\\local\\programs\\python\\python311\\lib\\site-packages (from requests->huggingface_hub->timm) (2022.12.7)\n",
      "Requirement already satisfied: mpmath>=0.19 in c:\\users\\acer alan\\appdata\\local\\programs\\python\\python311\\lib\\site-packages (from sympy->torch->timm) (1.3.0)\n"
     ]
    }
   ],
   "source": [
    "!pip install timm"
   ]
  },
  {
   "cell_type": "code",
   "execution_count": 3,
   "metadata": {},
   "outputs": [
    {
     "name": "stderr",
     "output_type": "stream",
     "text": [
      "c:\\Users\\acer alan\\AppData\\Local\\Programs\\Python\\Python311\\Lib\\site-packages\\tqdm\\auto.py:21: TqdmWarning: IProgress not found. Please update jupyter and ipywidgets. See https://ipywidgets.readthedocs.io/en/stable/user_install.html\n",
      "  from .autonotebook import tqdm as notebook_tqdm\n"
     ]
    }
   ],
   "source": [
    "from transformers import DetrImageProcessor, DetrForObjectDetection\n",
    "import torch\n",
    "from PIL import Image,ImageDraw\n",
    "import requests"
   ]
  },
  {
   "cell_type": "code",
   "execution_count": 4,
   "metadata": {},
   "outputs": [],
   "source": [
    "url = \"http://images.cocodataset.org/val2017/000000039769.jpg\"\n",
    "image = Image.open(requests.get(url, stream=True).raw)"
   ]
  },
  {
   "cell_type": "code",
   "execution_count": 5,
   "metadata": {},
   "outputs": [],
   "source": [
    "processor = DetrImageProcessor.from_pretrained(\"facebook/detr-resnet-50\")"
   ]
  },
  {
   "cell_type": "code",
   "execution_count": 6,
   "metadata": {},
   "outputs": [
    {
     "name": "stderr",
     "output_type": "stream",
     "text": [
      "Some weights of the model checkpoint at facebook/detr-resnet-50 were not used when initializing DetrForObjectDetection: ['model.backbone.conv_encoder.model.layer1.0.downsample.1.num_batches_tracked', 'model.backbone.conv_encoder.model.layer2.0.downsample.1.num_batches_tracked', 'model.backbone.conv_encoder.model.layer3.0.downsample.1.num_batches_tracked', 'model.backbone.conv_encoder.model.layer4.0.downsample.1.num_batches_tracked']\n",
      "- This IS expected if you are initializing DetrForObjectDetection from the checkpoint of a model trained on another task or with another architecture (e.g. initializing a BertForSequenceClassification model from a BertForPreTraining model).\n",
      "- This IS NOT expected if you are initializing DetrForObjectDetection from the checkpoint of a model that you expect to be exactly identical (initializing a BertForSequenceClassification model from a BertForSequenceClassification model).\n"
     ]
    }
   ],
   "source": [
    "model = DetrForObjectDetection.from_pretrained(\"facebook/detr-resnet-50\")"
   ]
  },
  {
   "cell_type": "code",
   "execution_count": 7,
   "metadata": {},
   "outputs": [],
   "source": [
    "inputs = processor(images=image, return_tensors=\"pt\")\n",
    "outputs = model(**inputs)"
   ]
  },
  {
   "cell_type": "code",
   "execution_count": 9,
   "metadata": {},
   "outputs": [
    {
     "name": "stdout",
     "output_type": "stream",
     "text": [
      "Detected remote with confidence 0.998 at location [40.16, 70.81, 175.55, 117.98]\n",
      "Detected remote with confidence 0.996 at location [333.24, 72.55, 368.33, 187.66]\n",
      "Detected couch with confidence 0.995 at location [-0.02, 1.15, 639.73, 473.76]\n",
      "Detected cat with confidence 0.999 at location [13.24, 52.05, 314.02, 470.93]\n",
      "Detected cat with confidence 0.999 at location [345.4, 23.85, 640.37, 368.72]\n"
     ]
    }
   ],
   "source": [
    "# convert outputs (bounding boxes and class logits) to COCO API\n",
    "# let's only keep detections with score > 0.9\n",
    "target_sizes = torch.tensor([image.size[::-1]])\n",
    "results = processor.post_process_object_detection(outputs, target_sizes=target_sizes, threshold=0.9)[0]\n",
    "\n",
    "for score, label, box in zip(results[\"scores\"], results[\"labels\"], results[\"boxes\"]):\n",
    "    box = [round(i, 2) for i in box.tolist()]\n",
    "    print(\n",
    "            f\"Detected {model.config.id2label[label.item()]} with confidence \"\n",
    "            f\"{round(score.item(), 3)} at location {box}\"\n",
    "    )"
   ]
  },
  {
   "cell_type": "code",
   "execution_count": 19,
   "metadata": {},
   "outputs": [],
   "source": [
    "draw = ImageDraw.Draw(image)\n",
    "\n",
    "for score, label, box in zip(results[\"scores\"], results[\"labels\"], results[\"boxes\"]):\n",
    "    box = [round(i, 2) for i in box.tolist()]\n",
    "    class_label = model.config.id2label[label.item()]\n",
    "    confidence = round(score.item(), 3)\n",
    "\n",
    "    # Draw rectangle\n",
    "    draw.rectangle(box, outline=\"red\")\n",
    "    \n",
    "    # Add text\n",
    "    text = f\"{class_label}: {confidence}\"\n",
    "    text_bbox = draw.textbbox((0, 0), text)\n",
    "    text_width = text_bbox[2] - text_bbox[0]\n",
    "    text_height = text_bbox[3] - text_bbox[1]\n",
    "    text_location = [box[0], box[1] - text_height - 4]\n",
    "    draw.rectangle([text_location[0], text_location[1], text_location[0] + text_width, text_location[1] + text_height], fill=\"red\")\n",
    "    draw.text(text_location, text, fill=\"white\")\n",
    "\n",
    "image.show()\n"
   ]
  }
 ],
 "metadata": {
  "kernelspec": {
   "display_name": "Python 3",
   "language": "python",
   "name": "python3"
  },
  "language_info": {
   "codemirror_mode": {
    "name": "ipython",
    "version": 3
   },
   "file_extension": ".py",
   "mimetype": "text/x-python",
   "name": "python",
   "nbconvert_exporter": "python",
   "pygments_lexer": "ipython3",
   "version": "undefined.undefined.undefined"
  }
 },
 "nbformat": 4,
 "nbformat_minor": 2
}
